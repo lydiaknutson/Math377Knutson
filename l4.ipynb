{
 "cells": [
  {
   "cell_type": "markdown",
   "metadata": {},
   "source": [
    "1) Create 3 variables for name (first and last), age and hometown. Assign to these\n",
    "variables your own name, age and hometown."
   ]
  },
  {
   "cell_type": "code",
   "execution_count": 1,
   "metadata": {},
   "outputs": [],
   "source": [
    "name=\"Lydia Knutson\"\n",
    "age=\"20\"\n",
    "hometown=\"Cedaredge, CO\""
   ]
  },
  {
   "cell_type": "markdown",
   "metadata": {},
   "source": [
    "Now, recreate the following sentence\n",
    "using variable assignment and the ‘print’ command in Python:\n",
    "“I am &lt;Your name here&gt;. I am &lt;age&gt; years old. I’m from &lt;hometown&gt;”"
   ]
  },
  {
   "cell_type": "code",
   "execution_count": 2,
   "metadata": {},
   "outputs": [
    {
     "name": "stdout",
     "output_type": "stream",
     "text": [
      "I'm Lydia Knutson.  I'm 20 years old.  I'm from Cedaredge, CO.\n"
     ]
    }
   ],
   "source": [
    "namestring= (\"I'm \" + name + \".  I'm \" + age + \" years old.  I'm from \" + hometown + \".\")\n",
    "print (namestring)"
   ]
  },
  {
   "cell_type": "markdown",
   "metadata": {},
   "source": [
    "a) Now, use a string method to make your name lower case. Print the all lower case\n",
    "version of your name."
   ]
  },
  {
   "cell_type": "code",
   "execution_count": 3,
   "metadata": {},
   "outputs": [
    {
     "data": {
      "text/plain": [
       "'lydia knutson'"
      ]
     },
     "execution_count": 3,
     "metadata": {},
     "output_type": "execute_result"
    }
   ],
   "source": [
    "name.casefold()"
   ]
  },
  {
   "cell_type": "markdown",
   "metadata": {},
   "source": [
    "b) Now use a string method to make your full name a proper noun. Print this version of\n",
    "your name."
   ]
  },
  {
   "cell_type": "code",
   "execution_count": 4,
   "metadata": {},
   "outputs": [
    {
     "data": {
      "text/plain": [
       "'Lydia Knutson'"
      ]
     },
     "execution_count": 4,
     "metadata": {},
     "output_type": "execute_result"
    }
   ],
   "source": [
    "name.title()"
   ]
  },
  {
   "cell_type": "markdown",
   "metadata": {},
   "source": [
    "2) Using the ‘replace’ method, replace all “I am” with “he is” or “she is” and all “I’m” with\n",
    "“he’s” or “she’s”."
   ]
  },
  {
   "cell_type": "code",
   "execution_count": 5,
   "metadata": {
    "scrolled": true
   },
   "outputs": [
    {
     "data": {
      "text/plain": [
       "\"She's Lydia Knutson.  She's 20 years old.  She's from Cedaredge, CO.\""
      ]
     },
     "execution_count": 5,
     "metadata": {},
     "output_type": "execute_result"
    }
   ],
   "source": [
    "namestring.replace(\"I'm\", \"She's\")"
   ]
  },
  {
   "cell_type": "markdown",
   "metadata": {},
   "source": [
    "3) Return a boolean response indicating whether the length of your original sentence (in\n",
    "#1) is greater than your age plus 40."
   ]
  },
  {
   "cell_type": "code",
   "execution_count": 6,
   "metadata": {},
   "outputs": [
    {
     "data": {
      "text/plain": [
       "True"
      ]
     },
     "execution_count": 6,
     "metadata": {},
     "output_type": "execute_result"
    }
   ],
   "source": [
    "stringvalue=len(namestring)\n",
    "comparestring=int(age)+40\n",
    "stringvalue>comparestring"
   ]
  }
 ],
 "metadata": {
  "kernelspec": {
   "display_name": "Python 3",
   "language": "python",
   "name": "python3"
  },
  "language_info": {
   "codemirror_mode": {
    "name": "ipython",
    "version": 3
   },
   "file_extension": ".py",
   "mimetype": "text/x-python",
   "name": "python",
   "nbconvert_exporter": "python",
   "pygments_lexer": "ipython3",
   "version": "3.6.5"
  }
 },
 "nbformat": 4,
 "nbformat_minor": 2
}
