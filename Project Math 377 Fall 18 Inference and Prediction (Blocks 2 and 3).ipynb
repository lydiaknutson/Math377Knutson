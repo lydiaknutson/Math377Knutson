{
 "cells": [
  {
   "cell_type": "markdown",
   "metadata": {},
   "source": [
    "# Math 377 Fall 2018\n",
    "\n",
    "#### Name: Lydia Knutson\n",
    "#### Section: M3"
   ]
  },
  {
   "cell_type": "markdown",
   "metadata": {},
   "source": [
    "**Documentation Statement:** I compared answers with C2C Matt Doudnikoff and Kelly Grier. In particular, I had trouble with what is line 42 of my code and the conversion of the table in the last section into panda and discussed these two sections with Matt Doudnikoff."
   ]
  },
  {
   "cell_type": "markdown",
   "metadata": {},
   "source": [
    "#### Note:\n",
    "The code through the first 4 sections is provided. Review it first and then begin work on Section 5."
   ]
  },
  {
   "cell_type": "markdown",
   "metadata": {},
   "source": [
    "# Project: Predicting Spam\n",
    "### Data Collection, Summarization, Inference and Prediction\n",
    "\n",
    "<img style=\"float: right;\" src=\"img\\spam3.jpg\">\n",
    "This project is designed to cover many of the main ideas of the entire course. Ultimately we want to predict if an email is spam. In the course of doing this, we will collect data, clean it up, work with string data, make a simple inference, and then build a naive bayes model from the ground up. \n",
    "\n",
    "\n",
    "By the end of project, you should know how to:\n",
    "\n",
    "1. Find and import data.\n",
    "2. Use regular expressions to edit string data.\n",
    "3. Determine if a word helps to identify an email as spam or not.\n",
    "4. Create a function to predict the type of email using the ideas of Bayesian Classification.\n",
    "5. Assess your model and propose improvements.\n",
    "\n",
    "**Advice.** Develop your answers incrementally. To perform a complicated table manipulation, break it up into steps, perform each step on a different line, give a new name to each result, and check that each intermediate result is what you expect by displaying it. You can add additional names or functions to the provided cells in order to organize your work. \n",
    "\n",
    "**Authorized Resources:** Anyone and anything."
   ]
  },
  {
   "cell_type": "markdown",
   "metadata": {},
   "source": [
    "### 0. Notebook Setup  \n",
    "\n",
    "Create a folder on your local drive and place this notebook in it. Create a subfolder called `data` copy the file `subject_lines.csv` into it from our Google drive. Create another subfolder called `img` and copy `spam3.jpg` into it, this file can also be found on the Google drive."
   ]
  },
  {
   "cell_type": "markdown",
   "metadata": {},
   "source": [
    "### 1. Background Information \n",
    "\n",
    "There are a couple of reference papers that may be of interest to explore. The first is \"Better Bayesian Filtering\" by Paul Graham,http://bit.ly/1ycPbiy. The second is \"A Plan for Spam\" also by Paul Graham, http://bit.ly/1ycPcmA"
   ]
  },
  {
   "cell_type": "markdown",
   "metadata": {},
   "source": [
    "### 2. Load Packages  \n",
    "\n",
    "To get started, load `datascience`, `numpy`, `mathplotlib.pyplot`, `math`, `re`, and `pandas`."
   ]
  },
  {
   "cell_type": "code",
   "execution_count": 1,
   "metadata": {},
   "outputs": [],
   "source": [
    "# Execute this line as written\n",
    "import datascience as ds #note the labs use from datascience import * but this is not a good practice\n",
    "import numpy as np\n",
    "import pandas as pd\n",
    "import re\n",
    "import math\n",
    "%matplotlib inline\n",
    "import matplotlib.pyplot as plots\n",
    "plots.style.use('fivethirtyeight')"
   ]
  },
  {
   "cell_type": "markdown",
   "metadata": {},
   "source": [
    "### 3. Get Data\n",
    "\n",
    "We are going to use data from the [Apache SpamAssasian](https://spamassassin.apache.org/) website. In particular we want data from their public corpus; see the readme document at https://spamassassin.apache.org/old/publiccorpus/.\n",
    "\n",
    "We have provided you with a csv file that contains two columns. The first is the subject line and the second is whether the email is spam."
   ]
  },
  {
   "cell_type": "markdown",
   "metadata": {},
   "source": [
    "Read in the data. It can be found on the Google drive with the name `subject_lines.csv`. Don't forget that you have imported the `datascience` package under the alias `ds`. "
   ]
  },
  {
   "cell_type": "code",
   "execution_count": 2,
   "metadata": {},
   "outputs": [
    {
     "data": {
      "text/html": [
       "<table border=\"1\" class=\"dataframe\">\n",
       "    <thead>\n",
       "        <tr>\n",
       "            <th>Subject Line</th> <th>Spam</th>\n",
       "        </tr>\n",
       "    </thead>\n",
       "    <tbody>\n",
       "        <tr>\n",
       "            <td>Re: New Sequences Window                       </td> <td>False</td>\n",
       "        </tr>\n",
       "        <tr>\n",
       "            <td>[zzzzteana] RE: Alexander                      </td> <td>False</td>\n",
       "        </tr>\n",
       "        <tr>\n",
       "            <td>[zzzzteana] Moscow bomber                      </td> <td>False</td>\n",
       "        </tr>\n",
       "        <tr>\n",
       "            <td>[IRR] Klez: The Virus That  Won't Die          </td> <td>False</td>\n",
       "        </tr>\n",
       "        <tr>\n",
       "            <td>Re: Insert signature                           </td> <td>False</td>\n",
       "        </tr>\n",
       "        <tr>\n",
       "            <td>Re: [zzzzteana] Nothing like mama used to make </td> <td>False</td>\n",
       "        </tr>\n",
       "        <tr>\n",
       "            <td>Re: [zzzzteana] Nothing like mama used to make </td> <td>False</td>\n",
       "        </tr>\n",
       "        <tr>\n",
       "            <td>[zzzzteana] Playboy wants to go out with a bang</td> <td>False</td>\n",
       "        </tr>\n",
       "        <tr>\n",
       "            <td>Re: [zzzzteana] Nothing like mama used to make </td> <td>False</td>\n",
       "        </tr>\n",
       "        <tr>\n",
       "            <td>[zzzzteana] Meaningful sentences               </td> <td>False</td>\n",
       "        </tr>\n",
       "    </tbody>\n",
       "</table>\n",
       "<p>... (3290 rows omitted)</p>"
      ],
      "text/plain": [
       "Subject Line                                    | Spam\n",
       "Re: New Sequences Window                        | False\n",
       "[zzzzteana] RE: Alexander                       | False\n",
       "[zzzzteana] Moscow bomber                       | False\n",
       "[IRR] Klez: The Virus That  Won't Die           | False\n",
       "Re: Insert signature                            | False\n",
       "Re: [zzzzteana] Nothing like mama used to make  | False\n",
       "Re: [zzzzteana] Nothing like mama used to make  | False\n",
       "[zzzzteana] Playboy wants to go out with a bang | False\n",
       "Re: [zzzzteana] Nothing like mama used to make  | False\n",
       "[zzzzteana] Meaningful sentences                | False\n",
       "... (3290 rows omitted)"
      ]
     },
     "execution_count": 2,
     "metadata": {},
     "output_type": "execute_result"
    }
   ],
   "source": [
    "# Complete the code to read in the data\n",
    "Spam_data_table = ds.Table.read_table('subject_lines.csv')\n",
    "Spam_data_table"
   ]
  },
  {
   "cell_type": "markdown",
   "metadata": {},
   "source": [
    "Let's get a count of the emails. Use the group command to get a count of spam and ham emails."
   ]
  },
  {
   "cell_type": "code",
   "execution_count": 3,
   "metadata": {},
   "outputs": [
    {
     "data": {
      "text/html": [
       "<table border=\"1\" class=\"dataframe\">\n",
       "    <thead>\n",
       "        <tr>\n",
       "            <th>Spam</th> <th>count</th>\n",
       "        </tr>\n",
       "    </thead>\n",
       "    <tbody>\n",
       "        <tr>\n",
       "            <td>False</td> <td>2800 </td>\n",
       "        </tr>\n",
       "        <tr>\n",
       "            <td>True </td> <td>500  </td>\n",
       "        </tr>\n",
       "    </tbody>\n",
       "</table>"
      ],
      "text/plain": [
       "Spam  | count\n",
       "False | 2800\n",
       "True  | 500"
      ]
     },
     "execution_count": 3,
     "metadata": {},
     "output_type": "execute_result"
    }
   ],
   "source": [
    "# Complete the code\n",
    "Spam_data_table.group(\"Spam\")"
   ]
  },
  {
   "cell_type": "markdown",
   "metadata": {},
   "source": [
    "### 4. Feature Engineering  \n",
    "\n",
    "We are dealing with string data as our predictor. We first need to clean it up. The choices we make here will potentially have a big impact on the quality of the model. Ideally we would go back and test the sensitivity of our results to these choices.\n",
    "\n",
    "First we will make all the text lower case. This will ensure that words such as Free and free are viewed as equivalent. This may not be a good idea for spam detection as a word in all capital letters might be more indicative of spam.  \n",
    "\n",
    "We will be dealing with frequencies in this project but we could also try other ideas such as vector encoding and $n$-grams."
   ]
  },
  {
   "cell_type": "markdown",
   "metadata": {},
   "source": [
    "#### Clean Data\n",
    "\n",
    "We will first get the subject lines in a standard format with lower cases, no punctuation, and the removal of stopwords."
   ]
  },
  {
   "cell_type": "code",
   "execution_count": 4,
   "metadata": {},
   "outputs": [
    {
     "data": {
      "text/plain": [
       "'free'"
      ]
     },
     "execution_count": 4,
     "metadata": {},
     "output_type": "execute_result"
    }
   ],
   "source": [
    "# Example of the function we need. Execute this line\n",
    "'FREE'.lower()"
   ]
  },
  {
   "cell_type": "markdown",
   "metadata": {},
   "source": [
    "Next, we need to tokenize our string. This means to split the string into a list of words. This requires the use of regular expressions, https://docs.python.org/2/library/re.html. \n",
    "\n",
    "We will also need to remove stop words. Stop words are common words such as `and` or `we`, that add little predictive ability. We will load the natural langauge tool kit package, `nltk`, to get a list of stop words. If you are having trouble loading the `nltk` package we also provide the stop words as a csv file."
   ]
  },
  {
   "cell_type": "markdown",
   "metadata": {},
   "source": [
    "#### Using nltk package, the preferred method"
   ]
  },
  {
   "cell_type": "code",
   "execution_count": 5,
   "metadata": {},
   "outputs": [
    {
     "name": "stdout",
     "output_type": "stream",
     "text": [
      "[nltk_data] Downloading package stopwords to\n",
      "[nltk_data]     C:\\Users\\C20Lydia.Knutson\\AppData\\Roaming\\nltk_data...\n",
      "[nltk_data]   Package stopwords is already up-to-date!\n",
      "['i', 'me', 'my', 'myself', 'we', 'our', 'ours', 'ourselves']\n"
     ]
    }
   ],
   "source": [
    "# Execute the following commands\n",
    "import nltk\n",
    "\n",
    "nltk.download('stopwords')\n",
    "\n",
    "# Getting the English stop words from nltk\n",
    "stop_words = nltk.corpus.stopwords.words('english')\n",
    "\n",
    "# Printing out the first eight stop words\n",
    "print(stop_words[:8])\n",
    "\n",
    "#We will convert our stopwords to a set as set lookup is much faster\n",
    "\n",
    "stop_words = set(stop_words)"
   ]
  },
  {
   "cell_type": "markdown",
   "metadata": {},
   "source": [
    "#### Using a csv file, the backup method"
   ]
  },
  {
   "cell_type": "code",
   "execution_count": 6,
   "metadata": {},
   "outputs": [],
   "source": [
    "stop_words = set(pd.read_csv('stop_words.csv')[\"stopwords\"].tolist())"
   ]
  },
  {
   "cell_type": "markdown",
   "metadata": {},
   "source": [
    "Strip off unwanted text from subject line"
   ]
  },
  {
   "cell_type": "code",
   "execution_count": 7,
   "metadata": {},
   "outputs": [
    {
     "name": "stdout",
     "output_type": "stream",
     "text": [
      "Subject Line                          | Spam\n",
      "Re: New Sequences Window              | False\n",
      "[zzzzteana] RE: Alexander             | False\n",
      "[zzzzteana] Moscow bomber             | False\n",
      "[IRR] Klez: The Virus That  Won't Die | False\n",
      "Re: Insert signature                  | False\n",
      "\n",
      "\n",
      "['re', 'new', 'sequences', 'window']\n",
      "['zzzzteana', 're', 'alexander']\n",
      "['zzzzteana', 'moscow', 'bomber']\n",
      "['irr', 'klez', 'the', 'virus', 'that', \"won't\", 'die']\n",
      "['re', 'insert', 'signature']\n"
     ]
    }
   ],
   "source": [
    "# Execute this line as is\n",
    "# Using data science table to demenostrate how to make lower case and keep only words and numbers\n",
    "print(Spam_data_table.take(np.arange(5)))\n",
    "print(\"\\n\")\n",
    "for subject in Spam_data_table.take(np.arange(5)).column(0):\n",
    "    print(re.findall(\"[a-z0-9']+\",subject.lower()))"
   ]
  },
  {
   "cell_type": "markdown",
   "metadata": {},
   "source": [
    "Let's remove the stop words and split the string into words. We will run some test code on the first 5 lines for illustration."
   ]
  },
  {
   "cell_type": "code",
   "execution_count": 8,
   "metadata": {},
   "outputs": [
    {
     "name": "stdout",
     "output_type": "stream",
     "text": [
      "Original subject line:  Re: New Sequences Window\n",
      "Split line:  ['re', 'new', 'sequences', 'window']\n",
      "Clean line:  ['new', 'sequences', 'window']\n",
      "Original subject line:  [zzzzteana] RE: Alexander\n",
      "Split line:  ['zzzzteana', 're', 'alexander']\n",
      "Clean line:  ['zzzzteana', 'alexander']\n",
      "Original subject line:  [zzzzteana] Moscow bomber\n",
      "Split line:  ['zzzzteana', 'moscow', 'bomber']\n",
      "Clean line:  ['zzzzteana', 'moscow', 'bomber']\n",
      "Original subject line:  [IRR] Klez: The Virus That  Won't Die\n",
      "Split line:  ['irr', 'klez', 'the', 'virus', 'that', \"won't\", 'die']\n",
      "Clean line:  ['irr', 'klez', 'virus', 'die']\n",
      "Original subject line:  Re: Insert signature\n",
      "Split line:  ['re', 'insert', 'signature']\n",
      "Clean line:  ['insert', 'signature']\n"
     ]
    }
   ],
   "source": [
    "# Testing code, run this line of code\n",
    "for subject in Spam_data_table.take(np.arange(5)).column(0):\n",
    "    final_words = []\n",
    "    print(\"Original subject line: \",subject)\n",
    "    print(\"Split line: \",re.findall(\"[a-z0-9']+\",subject.lower()))\n",
    "    words = re.findall(\"[a-z0-9']+\",subject.lower())\n",
    "    [final_words.append(word) for word in words if word not in stop_words]\n",
    "    print(\"Clean line: \",final_words)"
   ]
  },
  {
   "cell_type": "markdown",
   "metadata": {},
   "source": [
    "#### Subject Line Frequency  \n",
    "\n",
    "Before going further with inference or prediction, let's summarize the data. We want to count the total number of times a word occurrs in a subject line separately in both the spam and ham data sets. We need to count the word once per subject line."
   ]
  },
  {
   "cell_type": "markdown",
   "metadata": {},
   "source": [
    "Write a function to tokenize each subject line. This means reducing to lower case, removing stop words, and then splits into individual words. Use the code in the previous line as an example."
   ]
  },
  {
   "cell_type": "code",
   "execution_count": 9,
   "metadata": {},
   "outputs": [],
   "source": [
    "# Complete this function\n",
    "def token(subject,sw=stop_words):\n",
    "    words = re.findall(\"[a-z0-9']+\",subject.lower())\n",
    "    return set([word for word in words if word not in sw])"
   ]
  },
  {
   "cell_type": "markdown",
   "metadata": {},
   "source": [
    "First let's run some code on a subset, the first 3 lines, of the data. We need to get the subject line column, tokenize it, and then flatten into a list instead of a list of lists."
   ]
  },
  {
   "cell_type": "code",
   "execution_count": 10,
   "metadata": {},
   "outputs": [
    {
     "name": "stdout",
     "output_type": "stream",
     "text": [
      "List after using token:  [{'pay', 'life', 'insurance'}, {'12', 'lbs', '10', '30', 'ilug', 'days', 'lose', '206', 'guaranteed'}, {'11', '12', 'lbs', '10', '30', '150', 'days', 'lose', 'guaranteed'}] \n",
      "\n",
      "The flattened list:  ['pay', 'life', 'insurance', '12', 'lbs', '10', '30', 'ilug', 'days', 'lose', '206', 'guaranteed', '11', '12', 'lbs', '10', '30', '150', 'days', 'lose', 'guaranteed']\n"
     ]
    }
   ],
   "source": [
    "# Run this code\n",
    "# Get the first 5 subject lines for spam\n",
    "spam_subjects = Spam_data_table.where('Spam',True).take(np.arange(5)).column(0)\n",
    "#Tokenize and then append\n",
    "spam_words=[]\n",
    "for subject in spam_subjects[:3]:\n",
    "    spam_words.append(token(subject,stop_words))\n",
    "print(\"List after using token: \",spam_words,\"\\n\")\n",
    "#Create one long list of words\n",
    "spam_words = [item for sublist in spam_words for item in sublist]\n",
    "print(\"The flattened list: \",spam_words)"
   ]
  },
  {
   "cell_type": "markdown",
   "metadata": {},
   "source": [
    "Now that you have created code to generate a list of spam words taken from the first 3 subject lines, copy and paste the above snippet and modify it below to go through ALL spam. Note that you should no longer print the lists. "
   ]
  },
  {
   "cell_type": "code",
   "execution_count": 11,
   "metadata": {},
   "outputs": [
    {
     "name": "stdout",
     "output_type": "stream",
     "text": [
      "There are 2408 tokenized words in the spam subject lines.\n"
     ]
    }
   ],
   "source": [
    "#Get the subject lines for spam\n",
    "spam_subjects = Spam_data_table.where('Spam',True).column(0)\n",
    "#Tokenize and then append\n",
    "spam_words=[]\n",
    "for subject in spam_subjects:\n",
    "    spam_words.append(token(subject,stop_words))\n",
    "spam_words = [item for sublist in spam_words for item in sublist]\n",
    "print(\"There are\",len(spam_words),\"tokenized words in the spam subject lines.\")"
   ]
  },
  {
   "cell_type": "markdown",
   "metadata": {},
   "source": [
    "We can tokenize multiple subjects with the apply function."
   ]
  },
  {
   "cell_type": "code",
   "execution_count": 12,
   "metadata": {},
   "outputs": [
    {
     "data": {
      "text/html": [
       "<table border=\"1\" class=\"dataframe\">\n",
       "    <thead>\n",
       "        <tr>\n",
       "            <th>Subject Line</th> <th>Spam</th>\n",
       "        </tr>\n",
       "    </thead>\n",
       "    <tbody>\n",
       "        <tr>\n",
       "            <td>{'sequences', 'window', 'new'}   </td> <td>False</td>\n",
       "        </tr>\n",
       "        <tr>\n",
       "            <td>{'alexander', 'zzzzteana'}       </td> <td>False</td>\n",
       "        </tr>\n",
       "        <tr>\n",
       "            <td>{'bomber', 'moscow', 'zzzzteana'}</td> <td>False</td>\n",
       "        </tr>\n",
       "        <tr>\n",
       "            <td>{'die', 'virus', 'klez', 'irr'}  </td> <td>False</td>\n",
       "        </tr>\n",
       "        <tr>\n",
       "            <td>{'insert', 'signature'}          </td> <td>False</td>\n",
       "        </tr>\n",
       "    </tbody>\n",
       "</table>"
      ],
      "text/plain": [
       "Subject Line                      | Spam\n",
       "{'sequences', 'window', 'new'}    | False\n",
       "{'alexander', 'zzzzteana'}        | False\n",
       "{'bomber', 'moscow', 'zzzzteana'} | False\n",
       "{'die', 'virus', 'klez', 'irr'}   | False\n",
       "{'insert', 'signature'}           | False"
      ]
     },
     "execution_count": 12,
     "metadata": {},
     "output_type": "execute_result"
    }
   ],
   "source": [
    "# Run code\n",
    "# Using apply function in datascience\n",
    "Spam_data_table.take(np.arange(5)).with_columns(\"Subject\",Spam_data_table.take(np.arange(5)).apply(token,\"Subject Line\")).\\\n",
    "drop(0).select(\"Subject\",\"Spam\").relabel(\"Subject\",\"Subject Line\")"
   ]
  },
  {
   "cell_type": "markdown",
   "metadata": {},
   "source": [
    "Using the snippet above as an example, tokenize all subjects from spam e-mails only."
   ]
  },
  {
   "cell_type": "code",
   "execution_count": 13,
   "metadata": {},
   "outputs": [
    {
     "data": {
      "text/html": [
       "<table border=\"1\" class=\"dataframe\">\n",
       "    <thead>\n",
       "        <tr>\n",
       "            <th>Subject Line</th> <th>Spam</th>\n",
       "        </tr>\n",
       "    </thead>\n",
       "    <tbody>\n",
       "        <tr>\n",
       "            <td>{'pay', 'life', 'insurance'}                                </td> <td>True</td>\n",
       "        </tr>\n",
       "        <tr>\n",
       "            <td>{'12', 'lbs', '10', '30', 'ilug', 'days', 'lose', '206', ...</td> <td>True</td>\n",
       "        </tr>\n",
       "        <tr>\n",
       "            <td>{'11', '12', 'lbs', '10', '30', '150', 'days', 'lose', ' ...</td> <td>True</td>\n",
       "        </tr>\n",
       "        <tr>\n",
       "            <td>{'name', 'fw', 'user', 'membership', 'sites', 'com', 'pv ...</td> <td>True</td>\n",
       "        </tr>\n",
       "        <tr>\n",
       "            <td>{'social', '12', 'lbs', '10', '30', '148', 'ilug', 'days ...</td> <td>True</td>\n",
       "        </tr>\n",
       "        <tr>\n",
       "            <td>{'bank', 'account', 'information'}                          </td> <td>True</td>\n",
       "        </tr>\n",
       "        <tr>\n",
       "            <td>{'reps', 'fortune', '500', 'company', 'home', 'hiring'}     </td> <td>True</td>\n",
       "        </tr>\n",
       "        <tr>\n",
       "            <td>{'protected', 'family'}                                     </td> <td>True</td>\n",
       "        </tr>\n",
       "        <tr>\n",
       "            <td>{'important', 'concerning', 'bank', 'account', 'informat ...</td> <td>True</td>\n",
       "        </tr>\n",
       "        <tr>\n",
       "            <td>{'customer', 'base', 'multiply'}                            </td> <td>True</td>\n",
       "        </tr>\n",
       "    </tbody>\n",
       "</table>\n",
       "<p>... (490 rows omitted)</p>"
      ],
      "text/plain": [
       "Subject Line                                                 | Spam\n",
       "{'pay', 'life', 'insurance'}                                 | True\n",
       "{'12', 'lbs', '10', '30', 'ilug', 'days', 'lose', '206', ... | True\n",
       "{'11', '12', 'lbs', '10', '30', '150', 'days', 'lose', ' ... | True\n",
       "{'name', 'fw', 'user', 'membership', 'sites', 'com', 'pv ... | True\n",
       "{'social', '12', 'lbs', '10', '30', '148', 'ilug', 'days ... | True\n",
       "{'bank', 'account', 'information'}                           | True\n",
       "{'reps', 'fortune', '500', 'company', 'home', 'hiring'}      | True\n",
       "{'protected', 'family'}                                      | True\n",
       "{'important', 'concerning', 'bank', 'account', 'informat ... | True\n",
       "{'customer', 'base', 'multiply'}                             | True\n",
       "... (490 rows omitted)"
      ]
     },
     "execution_count": 13,
     "metadata": {},
     "output_type": "execute_result"
    }
   ],
   "source": [
    "# Now for the entire table\n",
    "Spam_data_table_spamonly = Spam_data_table.where('Spam',True)\n",
    "Spam_data_table_token = Spam_data_table_spamonly.with_columns(\"Subject\",Spam_data_table_spamonly.\\\n",
    "    apply(token,\"Subject Line\")).drop(0).select(\"Subject\",\"Spam\").relabel(\"Subject\",\"Subject Line\")\n",
    "Spam_data_table_token"
   ]
  },
  {
   "cell_type": "markdown",
   "metadata": {},
   "source": [
    "Now that we've tokenized all of the spam e-mails, get the frequency of each of the words that appears in spam."
   ]
  },
  {
   "cell_type": "code",
   "execution_count": 14,
   "metadata": {},
   "outputs": [
    {
     "data": {
      "text/html": [
       "<table border=\"1\" class=\"dataframe\">\n",
       "    <thead>\n",
       "        <tr>\n",
       "            <th>Words</th> <th>Spam Count</th>\n",
       "        </tr>\n",
       "    </thead>\n",
       "    <tbody>\n",
       "        <tr>\n",
       "            <td>ilug </td> <td>46        </td>\n",
       "        </tr>\n",
       "        <tr>\n",
       "            <td>free </td> <td>32        </td>\n",
       "        </tr>\n",
       "        <tr>\n",
       "            <td>get  </td> <td>20        </td>\n",
       "        </tr>\n",
       "        <tr>\n",
       "            <td>adv  </td> <td>20        </td>\n",
       "        </tr>\n",
       "        <tr>\n",
       "            <td>rates</td> <td>18        </td>\n",
       "        </tr>\n",
       "    </tbody>\n",
       "</table>\n",
       "<p>... (1130 rows omitted)</p>"
      ],
      "text/plain": [
       "<IPython.core.display.HTML object>"
      ]
     },
     "metadata": {},
     "output_type": "display_data"
    }
   ],
   "source": [
    "# Get counts and frequency\n",
    "# Flatten first\n",
    "spam_words = [item for sublist in Spam_data_table_token.column(0) for item in sublist]\n",
    "# Put into a table\n",
    "spam_table = ds.Table().with_columns(\"Words\",spam_words)\n",
    "spam_word_counts = spam_table.group('Words').sort('count',descending=True).relabel('count','Spam Count')\n",
    "spam_word_counts.show(5)"
   ]
  },
  {
   "cell_type": "code",
   "execution_count": 15,
   "metadata": {},
   "outputs": [
    {
     "name": "stdout",
     "output_type": "stream",
     "text": [
      "There are 1135 unique words in the tokenized spam subject lines.\n"
     ]
    }
   ],
   "source": [
    "print(\"There are\",spam_word_counts.num_rows,\"unique words in the tokenized spam subject lines.\")"
   ]
  },
  {
   "cell_type": "markdown",
   "metadata": {},
   "source": [
    "Next we want to create a column that has the subject line frequency of each word. This is the percentage of subject lines in the spam emails that contain the word of interest. We also sort the table from most frequent to least frequent."
   ]
  },
  {
   "cell_type": "code",
   "execution_count": 16,
   "metadata": {},
   "outputs": [
    {
     "data": {
      "text/html": [
       "<table border=\"1\" class=\"dataframe\">\n",
       "    <thead>\n",
       "        <tr>\n",
       "            <th>Words</th> <th>Spam Count</th> <th>Spam Subject Line Frequency</th>\n",
       "        </tr>\n",
       "    </thead>\n",
       "    <tbody>\n",
       "        <tr>\n",
       "            <td>ilug       </td> <td>46        </td> <td>0.0920                     </td>\n",
       "        </tr>\n",
       "        <tr>\n",
       "            <td>free       </td> <td>32        </td> <td>0.0640                     </td>\n",
       "        </tr>\n",
       "        <tr>\n",
       "            <td>get        </td> <td>20        </td> <td>0.0400                     </td>\n",
       "        </tr>\n",
       "        <tr>\n",
       "            <td>adv        </td> <td>20        </td> <td>0.0400                     </td>\n",
       "        </tr>\n",
       "        <tr>\n",
       "            <td>rates      </td> <td>18        </td> <td>0.0360                     </td>\n",
       "        </tr>\n",
       "        <tr>\n",
       "            <td>home       </td> <td>18        </td> <td>0.0360                     </td>\n",
       "        </tr>\n",
       "        <tr>\n",
       "            <td>money      </td> <td>17        </td> <td>0.0340                     </td>\n",
       "        </tr>\n",
       "        <tr>\n",
       "            <td>best       </td> <td>17        </td> <td>0.0340                     </td>\n",
       "        </tr>\n",
       "        <tr>\n",
       "            <td>systemworks</td> <td>15        </td> <td>0.0300                     </td>\n",
       "        </tr>\n",
       "        <tr>\n",
       "            <td>2002       </td> <td>15        </td> <td>0.0300                     </td>\n",
       "        </tr>\n",
       "    </tbody>\n",
       "</table>\n",
       "<p>... (1125 rows omitted)</p>"
      ],
      "text/plain": [
       "Words       | Spam Count | Spam Subject Line Frequency\n",
       "ilug        | 46         | 0.0920\n",
       "free        | 32         | 0.0640\n",
       "get         | 20         | 0.0400\n",
       "adv         | 20         | 0.0400\n",
       "rates       | 18         | 0.0360\n",
       "home        | 18         | 0.0360\n",
       "money       | 17         | 0.0340\n",
       "best        | 17         | 0.0340\n",
       "systemworks | 15         | 0.0300\n",
       "2002        | 15         | 0.0300\n",
       "... (1125 rows omitted)"
      ]
     },
     "execution_count": 16,
     "metadata": {},
     "output_type": "execute_result"
    }
   ],
   "source": [
    "# Execute this cell of code\n",
    "spam_word_counts = spam_word_counts.with_column('Spam Subject Line Frequency',spam_word_counts.column('Spam Count')/500).\\\n",
    "set_format(\"Spam Subject Line Frequency\", ds.NumberFormatter(decimals=4))\n",
    "spam_word_counts"
   ]
  },
  {
   "cell_type": "markdown",
   "metadata": {},
   "source": [
    "To summarize, 9.2% of the subject lines in the spam emails contain the word `ilug`. As a reminder, the vocabulary of words in the spam subject line consists of 2408 words where 1135 are unique words."
   ]
  },
  {
   "cell_type": "code",
   "execution_count": 17,
   "metadata": {},
   "outputs": [
    {
     "data": {
      "text/plain": [
       "1135"
      ]
     },
     "execution_count": 17,
     "metadata": {},
     "output_type": "execute_result"
    }
   ],
   "source": [
    "spam_word_counts.num_rows"
   ]
  },
  {
   "cell_type": "markdown",
   "metadata": {},
   "source": [
    "Find the total of the spam word count column in `spam_word_counts`. "
   ]
  },
  {
   "cell_type": "code",
   "execution_count": 18,
   "metadata": {},
   "outputs": [
    {
     "data": {
      "text/plain": [
       "2408"
      ]
     },
     "execution_count": 18,
     "metadata": {},
     "output_type": "execute_result"
    }
   ],
   "source": [
    "sum_spam_word_counts = sum(spam_word_counts.column('Spam Count'))\n",
    "sum_spam_word_counts"
   ]
  },
  {
   "cell_type": "markdown",
   "metadata": {},
   "source": [
    "Some of the words only occur once. Let's look at some of them."
   ]
  },
  {
   "cell_type": "code",
   "execution_count": 19,
   "metadata": {},
   "outputs": [
    {
     "data": {
      "text/html": [
       "<table border=\"1\" class=\"dataframe\">\n",
       "    <thead>\n",
       "        <tr>\n",
       "            <th>Words</th> <th>Spam Count</th> <th>Spam Subject Line Frequency</th>\n",
       "        </tr>\n",
       "    </thead>\n",
       "    <tbody>\n",
       "        <tr>\n",
       "            <td>zzzzason</td> <td>1         </td> <td>0.0020                     </td>\n",
       "        </tr>\n",
       "        <tr>\n",
       "            <td>zzzz8969</td> <td>1         </td> <td>0.0020                     </td>\n",
       "        </tr>\n",
       "        <tr>\n",
       "            <td>zbm     </td> <td>1         </td> <td>0.0020                     </td>\n",
       "        </tr>\n",
       "        <tr>\n",
       "            <td>ytu855  </td> <td>1         </td> <td>0.0020                     </td>\n",
       "        </tr>\n",
       "        <tr>\n",
       "            <td>yr      </td> <td>1         </td> <td>0.0020                     </td>\n",
       "        </tr>\n",
       "        <tr>\n",
       "            <td>youth   </td> <td>1         </td> <td>0.0020                     </td>\n",
       "        </tr>\n",
       "        <tr>\n",
       "            <td>younger </td> <td>1         </td> <td>0.0020                     </td>\n",
       "        </tr>\n",
       "        <tr>\n",
       "            <td>york    </td> <td>1         </td> <td>0.0020                     </td>\n",
       "        </tr>\n",
       "        <tr>\n",
       "            <td>yeni    </td> <td>1         </td> <td>0.0020                     </td>\n",
       "        </tr>\n",
       "        <tr>\n",
       "            <td>ya      </td> <td>1         </td> <td>0.0020                     </td>\n",
       "        </tr>\n",
       "    </tbody>\n",
       "</table>\n",
       "<p>... (720 rows omitted)</p>"
      ],
      "text/plain": [
       "Words    | Spam Count | Spam Subject Line Frequency\n",
       "zzzzason | 1          | 0.0020\n",
       "zzzz8969 | 1          | 0.0020\n",
       "zbm      | 1          | 0.0020\n",
       "ytu855   | 1          | 0.0020\n",
       "yr       | 1          | 0.0020\n",
       "youth    | 1          | 0.0020\n",
       "younger  | 1          | 0.0020\n",
       "york     | 1          | 0.0020\n",
       "yeni     | 1          | 0.0020\n",
       "ya       | 1          | 0.0020\n",
       "... (720 rows omitted)"
      ]
     },
     "execution_count": 19,
     "metadata": {},
     "output_type": "execute_result"
    }
   ],
   "source": [
    "# Create a table of words where the word only occurs once. There should be three columns, words, spam count and frequency.\n",
    "spam_word_one = spam_word_counts.where('Spam Count',1)\n",
    "spam_word_one"
   ]
  },
  {
   "cell_type": "markdown",
   "metadata": {},
   "source": [
    "To visualize the results so far, we will use a bar chart. Create a bar chart showing the frequency of the 15 most frequent words that appear in spam subject lines."
   ]
  },
  {
   "cell_type": "code",
   "execution_count": 20,
   "metadata": {},
   "outputs": [
    {
     "data": {
      "image/png": "[encoded data removed]",
      "text/plain": [
       "<Figure size 432x540 with 1 Axes>"
      ]
     },
     "metadata": {},
     "output_type": "display_data"
    }
   ],
   "source": [
    "# Create a horizontal bar chart\n",
    "spam_word_counts.take(np.arange(15)).barh('Words',select=\"Spam Subject Line Frequency\")"
   ]
  },
  {
   "cell_type": "markdown",
   "metadata": {},
   "source": [
    "### Ham e-mails"
   ]
  },
  {
   "cell_type": "markdown",
   "metadata": {},
   "source": [
    "Repeat this work for the ham e-mails. First, tokenize the ham subject lines."
   ]
  },
  {
   "cell_type": "code",
   "execution_count": 21,
   "metadata": {},
   "outputs": [
    {
     "data": {
      "text/html": [
       "<table border=\"1\" class=\"dataframe\">\n",
       "    <thead>\n",
       "        <tr>\n",
       "            <th>Subject Line</th> <th>Spam</th>\n",
       "        </tr>\n",
       "    </thead>\n",
       "    <tbody>\n",
       "        <tr>\n",
       "            <td>{'sequences', 'window', 'new'}                          </td> <td>False</td>\n",
       "        </tr>\n",
       "        <tr>\n",
       "            <td>{'alexander', 'zzzzteana'}                              </td> <td>False</td>\n",
       "        </tr>\n",
       "        <tr>\n",
       "            <td>{'bomber', 'moscow', 'zzzzteana'}                       </td> <td>False</td>\n",
       "        </tr>\n",
       "        <tr>\n",
       "            <td>{'die', 'virus', 'klez', 'irr'}                         </td> <td>False</td>\n",
       "        </tr>\n",
       "        <tr>\n",
       "            <td>{'insert', 'signature'}                                 </td> <td>False</td>\n",
       "        </tr>\n",
       "        <tr>\n",
       "            <td>{'used', 'nothing', 'zzzzteana', 'mama', 'like', 'make'}</td> <td>False</td>\n",
       "        </tr>\n",
       "        <tr>\n",
       "            <td>{'used', 'nothing', 'zzzzteana', 'mama', 'like', 'make'}</td> <td>False</td>\n",
       "        </tr>\n",
       "        <tr>\n",
       "            <td>{'zzzzteana', 'wants', 'playboy', 'bang', 'go'}         </td> <td>False</td>\n",
       "        </tr>\n",
       "        <tr>\n",
       "            <td>{'used', 'nothing', 'zzzzteana', 'mama', 'like', 'make'}</td> <td>False</td>\n",
       "        </tr>\n",
       "        <tr>\n",
       "            <td>{'sentences', 'meaningful', 'zzzzteana'}                </td> <td>False</td>\n",
       "        </tr>\n",
       "    </tbody>\n",
       "</table>\n",
       "<p>... (2790 rows omitted)</p>"
      ],
      "text/plain": [
       "Subject Line                                             | Spam\n",
       "{'sequences', 'window', 'new'}                           | False\n",
       "{'alexander', 'zzzzteana'}                               | False\n",
       "{'bomber', 'moscow', 'zzzzteana'}                        | False\n",
       "{'die', 'virus', 'klez', 'irr'}                          | False\n",
       "{'insert', 'signature'}                                  | False\n",
       "{'used', 'nothing', 'zzzzteana', 'mama', 'like', 'make'} | False\n",
       "{'used', 'nothing', 'zzzzteana', 'mama', 'like', 'make'} | False\n",
       "{'zzzzteana', 'wants', 'playboy', 'bang', 'go'}          | False\n",
       "{'used', 'nothing', 'zzzzteana', 'mama', 'like', 'make'} | False\n",
       "{'sentences', 'meaningful', 'zzzzteana'}                 | False\n",
       "... (2790 rows omitted)"
      ]
     },
     "execution_count": 21,
     "metadata": {},
     "output_type": "execute_result"
    }
   ],
   "source": [
    "Ham_data_table_hamonly = Spam_data_table.where('Spam',False)\n",
    "Ham_data_table_token = Ham_data_table_hamonly.with_columns(\"Subject\",Ham_data_table_hamonly.\\\n",
    "    apply(token,\"Subject Line\")).drop(0).select(\"Subject\",\"Spam\").relabel(\"Subject\",\"Subject Line\")\n",
    "Ham_data_table_token"
   ]
  },
  {
   "cell_type": "markdown",
   "metadata": {},
   "source": [
    "Find the word counts for words that appeared in ham subject lines."
   ]
  },
  {
   "cell_type": "code",
   "execution_count": 22,
   "metadata": {},
   "outputs": [
    {
     "data": {
      "text/html": [
       "<table border=\"1\" class=\"dataframe\">\n",
       "    <thead>\n",
       "        <tr>\n",
       "            <th>Words</th> <th>Ham Count</th>\n",
       "        </tr>\n",
       "    </thead>\n",
       "    <tbody>\n",
       "        <tr>\n",
       "            <td>satalk   </td> <td>141      </td>\n",
       "        </tr>\n",
       "        <tr>\n",
       "            <td>spambayes</td> <td>135      </td>\n",
       "        </tr>\n",
       "        <tr>\n",
       "            <td>new      </td> <td>117      </td>\n",
       "        </tr>\n",
       "        <tr>\n",
       "            <td>users    </td> <td>108      </td>\n",
       "        </tr>\n",
       "        <tr>\n",
       "            <td>2        </td> <td>108      </td>\n",
       "        </tr>\n",
       "    </tbody>\n",
       "</table>\n",
       "<p>... (3722 rows omitted)</p>"
      ],
      "text/plain": [
       "<IPython.core.display.HTML object>"
      ]
     },
     "metadata": {},
     "output_type": "display_data"
    }
   ],
   "source": [
    "# Get counts and frequency\n",
    "# Flatten first\n",
    "ham_words = [item for sublist in Ham_data_table_token.column(0) for item in sublist]\n",
    "# Put into a table\n",
    "ham_table = ds.Table().with_columns(\"Words\",ham_words)\n",
    "ham_word_counts = ham_table.group('Words').sort('count',descending=True).relabel('count','Ham Count')\n",
    "ham_word_counts.show(5)"
   ]
  },
  {
   "cell_type": "code",
   "execution_count": 23,
   "metadata": {},
   "outputs": [
    {
     "name": "stdout",
     "output_type": "stream",
     "text": [
      "There are 3727 unique words in the tokenized ham subject lines.\n"
     ]
    }
   ],
   "source": [
    "print(\"There are\",ham_word_counts.num_rows,\"unique words in the tokenized ham subject lines.\")"
   ]
  },
  {
   "cell_type": "code",
   "execution_count": 24,
   "metadata": {},
   "outputs": [
    {
     "name": "stdout",
     "output_type": "stream",
     "text": [
      "There are 12163 tokenized words in the ham subject lines.\n"
     ]
    }
   ],
   "source": [
    "sum_ham_word_counts = sum(ham_word_counts.column('Ham Count'))\n",
    "print(\"There are\",sum_ham_word_counts,\"tokenized words in the ham subject lines.\")"
   ]
  },
  {
   "cell_type": "code",
   "execution_count": 25,
   "metadata": {},
   "outputs": [
    {
     "data": {
      "text/html": [
       "<table border=\"1\" class=\"dataframe\">\n",
       "    <thead>\n",
       "        <tr>\n",
       "            <th>Words</th> <th>Ham Count</th> <th>Ham Subject Line Frequency</th>\n",
       "        </tr>\n",
       "    </thead>\n",
       "    <tbody>\n",
       "        <tr>\n",
       "            <td>satalk   </td> <td>141      </td> <td>0.0504                    </td>\n",
       "        </tr>\n",
       "        <tr>\n",
       "            <td>spambayes</td> <td>135      </td> <td>0.0482                    </td>\n",
       "        </tr>\n",
       "        <tr>\n",
       "            <td>new      </td> <td>117      </td> <td>0.0418                    </td>\n",
       "        </tr>\n",
       "        <tr>\n",
       "            <td>users    </td> <td>108      </td> <td>0.0386                    </td>\n",
       "        </tr>\n",
       "        <tr>\n",
       "            <td>2        </td> <td>108      </td> <td>0.0386                    </td>\n",
       "        </tr>\n",
       "        <tr>\n",
       "            <td>ilug     </td> <td>94       </td> <td>0.0336                    </td>\n",
       "        </tr>\n",
       "        <tr>\n",
       "            <td>use      </td> <td>91       </td> <td>0.0325                    </td>\n",
       "        </tr>\n",
       "        <tr>\n",
       "            <td>razor    </td> <td>91       </td> <td>0.0325                    </td>\n",
       "        </tr>\n",
       "        <tr>\n",
       "            <td>2002     </td> <td>89       </td> <td>0.0318                    </td>\n",
       "        </tr>\n",
       "        <tr>\n",
       "            <td>zzzzteana</td> <td>87       </td> <td>0.0311                    </td>\n",
       "        </tr>\n",
       "    </tbody>\n",
       "</table>\n",
       "<p>... (3717 rows omitted)</p>"
      ],
      "text/plain": [
       "Words     | Ham Count | Ham Subject Line Frequency\n",
       "satalk    | 141       | 0.0504\n",
       "spambayes | 135       | 0.0482\n",
       "new       | 117       | 0.0418\n",
       "users     | 108       | 0.0386\n",
       "2         | 108       | 0.0386\n",
       "ilug      | 94        | 0.0336\n",
       "use       | 91        | 0.0325\n",
       "razor     | 91        | 0.0325\n",
       "2002      | 89        | 0.0318\n",
       "zzzzteana | 87        | 0.0311\n",
       "... (3717 rows omitted)"
      ]
     },
     "execution_count": 25,
     "metadata": {},
     "output_type": "execute_result"
    }
   ],
   "source": [
    "ham_word_counts = ham_word_counts.with_column('Ham Subject Line Frequency',ham_word_counts.column('Ham Count')/2800).\\\n",
    "set_format(\"Ham Subject Line Frequency\", ds.NumberFormatter(decimals=4))\n",
    "ham_word_counts"
   ]
  },
  {
   "cell_type": "markdown",
   "metadata": {},
   "source": [
    "Make a barplot showing the frequency of the 15 most frequent words that appear in ham subject lines. "
   ]
  },
  {
   "cell_type": "code",
   "execution_count": 26,
   "metadata": {},
   "outputs": [
    {
     "data": {
      "image/png": "[encoded data removed]",
      "text/plain": [
       "<Figure size 432x540 with 1 Axes>"
      ]
     },
     "metadata": {},
     "output_type": "display_data"
    }
   ],
   "source": [
    "ham_word_counts.take(np.arange(15)).barh('Words',select=\"Ham Subject Line Frequency\")"
   ]
  },
  {
   "cell_type": "markdown",
   "metadata": {},
   "source": [
    "There are 12163 words in the ham email subject lines of which 3727 are unique. Which words appear only once?"
   ]
  },
  {
   "cell_type": "code",
   "execution_count": 27,
   "metadata": {},
   "outputs": [
    {
     "data": {
      "text/html": [
       "<table border=\"1\" class=\"dataframe\">\n",
       "    <thead>\n",
       "        <tr>\n",
       "            <th>Words</th> <th>Ham Count</th> <th>Ham Subject Line Frequency</th>\n",
       "        </tr>\n",
       "    </thead>\n",
       "    <tbody>\n",
       "        <tr>\n",
       "            <td>zoo     </td> <td>1        </td> <td>0.0004                    </td>\n",
       "        </tr>\n",
       "        <tr>\n",
       "            <td>zone    </td> <td>1        </td> <td>0.0004                    </td>\n",
       "        </tr>\n",
       "        <tr>\n",
       "            <td>zombies </td> <td>1        </td> <td>0.0004                    </td>\n",
       "        </tr>\n",
       "        <tr>\n",
       "            <td>zen     </td> <td>1        </td> <td>0.0004                    </td>\n",
       "        </tr>\n",
       "        <tr>\n",
       "            <td>zealots </td> <td>1        </td> <td>0.0004                    </td>\n",
       "        </tr>\n",
       "        <tr>\n",
       "            <td>yup     </td> <td>1        </td> <td>0.0004                    </td>\n",
       "        </tr>\n",
       "        <tr>\n",
       "            <td>youth   </td> <td>1        </td> <td>0.0004                    </td>\n",
       "        </tr>\n",
       "        <tr>\n",
       "            <td>youngest</td> <td>1        </td> <td>0.0004                    </td>\n",
       "        </tr>\n",
       "        <tr>\n",
       "            <td>yoga    </td> <td>1        </td> <td>0.0004                    </td>\n",
       "        </tr>\n",
       "        <tr>\n",
       "            <td>yet     </td> <td>1        </td> <td>0.0004                    </td>\n",
       "        </tr>\n",
       "    </tbody>\n",
       "</table>\n",
       "<p>... (2152 rows omitted)</p>"
      ],
      "text/plain": [
       "Words    | Ham Count | Ham Subject Line Frequency\n",
       "zoo      | 1         | 0.0004\n",
       "zone     | 1         | 0.0004\n",
       "zombies  | 1         | 0.0004\n",
       "zen      | 1         | 0.0004\n",
       "zealots  | 1         | 0.0004\n",
       "yup      | 1         | 0.0004\n",
       "youth    | 1         | 0.0004\n",
       "youngest | 1         | 0.0004\n",
       "yoga     | 1         | 0.0004\n",
       "yet      | 1         | 0.0004\n",
       "... (2152 rows omitted)"
      ]
     },
     "execution_count": 27,
     "metadata": {},
     "output_type": "execute_result"
    }
   ],
   "source": [
    "ham_word_one = ham_word_counts.where('Ham Count',1)\n",
    "ham_word_one"
   ]
  },
  {
   "cell_type": "markdown",
   "metadata": {},
   "source": [
    "As a reminder, in the spam subject line there are 1135 unique words while there are 3727 in the ham. When we merge these data sets there will only be partial overlap."
   ]
  },
  {
   "cell_type": "code",
   "execution_count": 28,
   "metadata": {},
   "outputs": [
    {
     "data": {
      "text/plain": [
       "1135"
      ]
     },
     "execution_count": 28,
     "metadata": {},
     "output_type": "execute_result"
    }
   ],
   "source": [
    "spam_word_counts.num_rows #Number of unique words in spam subject lines"
   ]
  },
  {
   "cell_type": "code",
   "execution_count": 29,
   "metadata": {},
   "outputs": [
    {
     "data": {
      "text/plain": [
       "3727"
      ]
     },
     "execution_count": 29,
     "metadata": {},
     "output_type": "execute_result"
    }
   ],
   "source": [
    "ham_word_counts.num_rows #Number of unique words in ham subject lines"
   ]
  },
  {
   "cell_type": "markdown",
   "metadata": {},
   "source": [
    "There are many more words in the ham subject lines than in the spam subject lines. We need to get one table with the words and counts. This will increase the number of rows for the spam. The built-in join function from the `datascience` package only performs an inner joining. We need to perform an outer join. We cannot determine how to do this with the join function from `datascience` so let's convert the table to pandas dataframes and then perform an outer join, see https://www.shanelynn.ie/merge-join-dataframes-python-pandas-index-1/. By default, pandas repalces missing values with NaN, not a number. We must replace those missing values with 0. Finally, we can convert back to a datascience table."
   ]
  },
  {
   "cell_type": "code",
   "execution_count": 30,
   "metadata": {},
   "outputs": [
    {
     "data": {
      "text/html": [
       "<table border=\"1\" class=\"dataframe\">\n",
       "    <thead>\n",
       "        <tr>\n",
       "            <th>Words</th> <th>Ham Count</th> <th>Ham Subject Line Frequency</th> <th>Spam Count</th> <th>Spam Subject Line Frequency</th>\n",
       "        </tr>\n",
       "    </thead>\n",
       "    <tbody>\n",
       "        <tr>\n",
       "            <td>satalk   </td> <td>141      </td> <td>0.0503571                 </td> <td>1         </td> <td>0.002                      </td>\n",
       "        </tr>\n",
       "        <tr>\n",
       "            <td>spambayes</td> <td>135      </td> <td>0.0482143                 </td> <td>0         </td> <td>0                          </td>\n",
       "        </tr>\n",
       "        <tr>\n",
       "            <td>new      </td> <td>117      </td> <td>0.0417857                 </td> <td>13        </td> <td>0.026                      </td>\n",
       "        </tr>\n",
       "        <tr>\n",
       "            <td>users    </td> <td>108      </td> <td>0.0385714                 </td> <td>0         </td> <td>0                          </td>\n",
       "        </tr>\n",
       "        <tr>\n",
       "            <td>2        </td> <td>108      </td> <td>0.0385714                 </td> <td>3         </td> <td>0.006                      </td>\n",
       "        </tr>\n",
       "        <tr>\n",
       "            <td>ilug     </td> <td>94       </td> <td>0.0335714                 </td> <td>46        </td> <td>0.092                      </td>\n",
       "        </tr>\n",
       "        <tr>\n",
       "            <td>use      </td> <td>91       </td> <td>0.0325                    </td> <td>2         </td> <td>0.004                      </td>\n",
       "        </tr>\n",
       "        <tr>\n",
       "            <td>razor    </td> <td>91       </td> <td>0.0325                    </td> <td>0         </td> <td>0                          </td>\n",
       "        </tr>\n",
       "        <tr>\n",
       "            <td>2002     </td> <td>89       </td> <td>0.0317857                 </td> <td>15        </td> <td>0.03                       </td>\n",
       "        </tr>\n",
       "        <tr>\n",
       "            <td>zzzzteana</td> <td>87       </td> <td>0.0310714                 </td> <td>0         </td> <td>0                          </td>\n",
       "        </tr>\n",
       "    </tbody>\n",
       "</table>\n",
       "<p>... (4401 rows omitted)</p>"
      ],
      "text/plain": [
       "Words     | Ham Count | Ham Subject Line Frequency | Spam Count | Spam Subject Line Frequency\n",
       "satalk    | 141       | 0.0503571                  | 1          | 0.002\n",
       "spambayes | 135       | 0.0482143                  | 0          | 0\n",
       "new       | 117       | 0.0417857                  | 13         | 0.026\n",
       "users     | 108       | 0.0385714                  | 0          | 0\n",
       "2         | 108       | 0.0385714                  | 3          | 0.006\n",
       "ilug      | 94        | 0.0335714                  | 46         | 0.092\n",
       "use       | 91        | 0.0325                     | 2          | 0.004\n",
       "razor     | 91        | 0.0325                     | 0          | 0\n",
       "2002      | 89        | 0.0317857                  | 15         | 0.03\n",
       "zzzzteana | 87        | 0.0310714                  | 0          | 0\n",
       "... (4401 rows omitted)"
      ]
     },
     "execution_count": 30,
     "metadata": {},
     "output_type": "execute_result"
    }
   ],
   "source": [
    "# Execute this cell\n",
    "# Convert data.science table to pandas dataframe\n",
    "word_counts = pd.merge(ham_word_counts.to_df(),spam_word_counts.to_df(),how=\"outer\").fillna(0)\n",
    "word_counts = ds.Table.from_df(word_counts)\n",
    "word_counts"
   ]
  },
  {
   "cell_type": "markdown",
   "metadata": {},
   "source": [
    "Let's visualize the results by looking at the most common words in the ham subject lines."
   ]
  },
  {
   "cell_type": "code",
   "execution_count": 31,
   "metadata": {},
   "outputs": [
    {
     "data": {
      "image/png": "[encoded data removed]",
      "text/plain": [
       "<Figure size 432x360 with 1 Axes>"
      ]
     },
     "metadata": {},
     "output_type": "display_data"
    }
   ],
   "source": [
    "# Execute this cell\n",
    "word_counts.take(np.arange(10)).select('Words','Ham Subject Line Frequency','Spam Subject Line Frequency').barh('Words')"
   ]
  },
  {
   "cell_type": "markdown",
   "metadata": {},
   "source": [
    "Now, create the same visualization but with the most common words in the spam emails. "
   ]
  },
  {
   "cell_type": "code",
   "execution_count": 32,
   "metadata": {},
   "outputs": [
    {
     "data": {
      "image/png": "[encoded data removed]",
      "text/plain": [
       "<Figure size 432x360 with 1 Axes>"
      ]
     },
     "metadata": {},
     "output_type": "display_data"
    }
   ],
   "source": [
    "word_counts.sort('Spam Subject Line Frequency',descending=True).\\\n",
    "take(np.arange(10)).select('Words','Spam Subject Line Frequency','Ham Subject Line Frequency').barh('Words')"
   ]
  },
  {
   "cell_type": "markdown",
   "metadata": {},
   "source": [
    "What do you notice about words that appear in spam and ham e-mail subject lines? "
   ]
  },
  {
   "cell_type": "markdown",
   "metadata": {},
   "source": [
    "There are some key words that occur frequently in spam but not in ham. An example is the word free. Some are frequent in both and may not add much predictive value, for example 2002. "
   ]
  },
  {
   "cell_type": "markdown",
   "metadata": {},
   "source": [
    "#### References\n"
   ]
  },
  {
   "cell_type": "markdown",
   "metadata": {},
   "source": [
    "https://www.analyticsvidhya.com/blog/2017/09/naive-bayes-explained/\n",
    "http://localhost:8888/notebooks/Documents/Classes/Books/Stats/Python%20Data%20Science%20Handbook/PythonDataScienceHandbook-master/notebooks/05.05-Naive-Bayes.ipynb"
   ]
  },
  {
   "cell_type": "markdown",
   "metadata": {},
   "source": [
    "### 5. Inference\n",
    "\n",
    "From personal experience of recieving many spam emails over the years, we beleive that the word free appears in spam emails much more often than in regular, ham, emails. Let's test this hypothesis using our data.\n",
    "\n",
    "First let's get the data. Note: We already have all the data in the above horizontal bar plot.  \n",
    "\n",
    "Run all the cells prior to this one to load the data. This assumes your data files are in the same folder as this notebook."
   ]
  },
  {
   "cell_type": "markdown",
   "metadata": {},
   "source": [
    "Get the counts of the words free from the word_counts table."
   ]
  },
  {
   "cell_type": "code",
   "execution_count": 33,
   "metadata": {},
   "outputs": [
    {
     "data": {
      "text/html": [
       "<table border=\"1\" class=\"dataframe\">\n",
       "    <thead>\n",
       "        <tr>\n",
       "            <th>Words</th> <th>Ham Count</th> <th>Ham Subject Line Frequency</th> <th>Spam Count</th> <th>Spam Subject Line Frequency</th>\n",
       "        </tr>\n",
       "    </thead>\n",
       "    <tbody>\n",
       "        <tr>\n",
       "            <td>free </td> <td>13       </td> <td>0.00464286                </td> <td>32        </td> <td>0.064                      </td>\n",
       "        </tr>\n",
       "    </tbody>\n",
       "</table>"
      ],
      "text/plain": [
       "Words | Ham Count | Ham Subject Line Frequency | Spam Count | Spam Subject Line Frequency\n",
       "free  | 13        | 0.00464286                 | 32         | 0.064"
      ]
     },
     "execution_count": 33,
     "metadata": {},
     "output_type": "execute_result"
    }
   ],
   "source": [
    "# Complete the code\n",
    "word_counts.where('Words','free')"
   ]
  },
  {
   "cell_type": "markdown",
   "metadata": {},
   "source": [
    "From the intitial section of this analysis, we found that there were 3300 emails of which 500 are spam. Thus 2800 are ham. Put this data in a table.\n"
   ]
  },
  {
   "cell_type": "code",
   "execution_count": 34,
   "metadata": {},
   "outputs": [
    {
     "data": {
      "text/html": [
       "<table border=\"1\" class=\"dataframe\">\n",
       "    <thead>\n",
       "        <tr>\n",
       "            <th>Word</th> <th>Type</th> <th>Count</th>\n",
       "        </tr>\n",
       "    </thead>\n",
       "    <tbody>\n",
       "        <tr>\n",
       "            <td>Free   </td> <td>Spam</td> <td>32   </td>\n",
       "        </tr>\n",
       "        <tr>\n",
       "            <td>No Free</td> <td>Spam</td> <td>468  </td>\n",
       "        </tr>\n",
       "        <tr>\n",
       "            <td>Free   </td> <td>Ham </td> <td>13   </td>\n",
       "        </tr>\n",
       "        <tr>\n",
       "            <td>No Free</td> <td>Ham </td> <td>2787 </td>\n",
       "        </tr>\n",
       "    </tbody>\n",
       "</table>"
      ],
      "text/plain": [
       "Word    | Type | Count\n",
       "Free    | Spam | 32\n",
       "No Free | Spam | 468\n",
       "Free    | Ham  | 13\n",
       "No Free | Ham  | 2787"
      ]
     },
     "execution_count": 34,
     "metadata": {},
     "output_type": "execute_result"
    }
   ],
   "source": [
    "# Complete the code\n",
    "free = ds.Table().with_columns('Word', ds.make_array(\"Free\", \"No Free\", \"Free\", \"No Free\")\n",
    "                               , 'Type', ds.make_array(\"Spam\",\"Spam\",\"Ham\",\"Ham\"), \n",
    "                               'Count',  ds.make_array(sum(word_counts.where('Words','free').column('Spam Count')),\n",
    "                                                       500-sum(word_counts.where('Words','free').column('Spam Count')),\n",
    "                                                       sum(word_counts.where('Words','free').column('Ham Count')),\n",
    "                                                       2800-sum(word_counts.where('Words','free').column('Ham Count'))))\n",
    "free"
   ]
  },
  {
   "cell_type": "markdown",
   "metadata": {},
   "source": [
    "Our hypothesis before collecting and summarizing the data was that the word free would appear in spam emails more frequently than in ham emails. Now we have data that supports this as 6.4% of spam emails contain the word free while only 0.46% of ham emails contain it. \n",
    "\n",
    "This difference could be due to random chance. Let's perform a hypothesis test to determine the probability of our observed data."
   ]
  },
  {
   "cell_type": "markdown",
   "metadata": {},
   "source": [
    "We now construct the framework for our hypothesis test.\n",
    "\n",
    "> **Null Hypothesis**: Spam emails are equally likely to contain the word \"free\" as ham emails.\n",
    "\n",
    "Under the null hypothesis we assume that the word free does not appear more likely in either ham or spam. Remember that ham is much more common than spam, so we need to be careful about our randomization process. \n",
    "\n",
    "Prior to collecting data, we suspected that free would appear more often in spam emails. The alternative hypothesis is:\n",
    "\n",
    "> **Alternative Hypothesis**: Spam emails are more likely to contain the word \"free\" as compared with ham emails.\n",
    "\n",
    "*Technical note*: The word frequencies are not random samples from any population of emails so we must be careful about generalizing our results.  For example, most people have not recieved an email with the word 'ilug' in it. \n",
    "\n",
    "*Important requirements for our test statistic:* We want to choose a test statistic for which large positive values are evidence in favor of the alternative hypothesis, and other values are evidence in favor of the null hypothesis. This is because once we've determined the direction of our alternative hypothesis, we only care about the tail in that direction. If, for example, our p-value cutoff was 5%, we'd check to see if our observed test statistic fell within the largest 5% of values in our null hypothesis distribution. \n",
    "\n",
    "Our test statistic should depend only on whether free is more common in spam than ham. Thus we choose:\n",
    "\n",
    "> **Test Statistic**: The number of times free appears in the subject line of 500 spam emails minus the number of times free appears in the subject line of 2800 ham emails."
   ]
  },
  {
   "cell_type": "markdown",
   "metadata": {},
   "source": [
    "We need to create a data table to sample from. First we need a list of whether the subject line contains free or not and then the email type."
   ]
  },
  {
   "cell_type": "code",
   "execution_count": 35,
   "metadata": {},
   "outputs": [],
   "source": [
    "# Execute the following code\n",
    "word_list=[\"Free\"]*32\n",
    "word_list.extend([\"Not Free\"]*468)\n",
    "word_list.extend([\"Free\"]*13)\n",
    "word_list.extend([\"Not Free\"]*2787)\n",
    "email=[\"Spam\"]*500\n",
    "email.extend([\"Ham\"]*2800)"
   ]
  },
  {
   "cell_type": "markdown",
   "metadata": {},
   "source": [
    "Create a datascience table with columns Email and Word, in that order."
   ]
  },
  {
   "cell_type": "code",
   "execution_count": 36,
   "metadata": {},
   "outputs": [
    {
     "data": {
      "text/html": [
       "<table border=\"1\" class=\"dataframe\">\n",
       "    <thead>\n",
       "        <tr>\n",
       "            <th>Email</th> <th>Word</th>\n",
       "        </tr>\n",
       "    </thead>\n",
       "    <tbody>\n",
       "        <tr>\n",
       "            <td>Spam </td> <td>Free</td>\n",
       "        </tr>\n",
       "        <tr>\n",
       "            <td>Spam </td> <td>Free</td>\n",
       "        </tr>\n",
       "        <tr>\n",
       "            <td>Spam </td> <td>Free</td>\n",
       "        </tr>\n",
       "        <tr>\n",
       "            <td>Spam </td> <td>Free</td>\n",
       "        </tr>\n",
       "        <tr>\n",
       "            <td>Spam </td> <td>Free</td>\n",
       "        </tr>\n",
       "        <tr>\n",
       "            <td>Spam </td> <td>Free</td>\n",
       "        </tr>\n",
       "        <tr>\n",
       "            <td>Spam </td> <td>Free</td>\n",
       "        </tr>\n",
       "        <tr>\n",
       "            <td>Spam </td> <td>Free</td>\n",
       "        </tr>\n",
       "        <tr>\n",
       "            <td>Spam </td> <td>Free</td>\n",
       "        </tr>\n",
       "        <tr>\n",
       "            <td>Spam </td> <td>Free</td>\n",
       "        </tr>\n",
       "    </tbody>\n",
       "</table>\n",
       "<p>... (3290 rows omitted)</p>"
      ],
      "text/plain": [
       "Email | Word\n",
       "Spam  | Free\n",
       "Spam  | Free\n",
       "Spam  | Free\n",
       "Spam  | Free\n",
       "Spam  | Free\n",
       "Spam  | Free\n",
       "Spam  | Free\n",
       "Spam  | Free\n",
       "Spam  | Free\n",
       "Spam  | Free\n",
       "... (3290 rows omitted)"
      ]
     },
     "execution_count": 36,
     "metadata": {},
     "output_type": "execute_result"
    }
   ],
   "source": [
    "# Complete the code\n",
    "inf_tab = ds.Table().with_column('Email',email)\n",
    "inf_tab=inf_tab.with_column('Word',word_list)\n",
    "inf_tab"
   ]
  },
  {
   "cell_type": "markdown",
   "metadata": {},
   "source": [
    "Summarize the data using a pivot table. This is a check that we have created the correct table."
   ]
  },
  {
   "cell_type": "code",
   "execution_count": 37,
   "metadata": {},
   "outputs": [
    {
     "data": {
      "text/html": [
       "<table border=\"1\" class=\"dataframe\">\n",
       "    <thead>\n",
       "        <tr>\n",
       "            <th>Word</th> <th>Ham</th> <th>Spam</th>\n",
       "        </tr>\n",
       "    </thead>\n",
       "    <tbody>\n",
       "        <tr>\n",
       "            <td>Free    </td> <td>13  </td> <td>32  </td>\n",
       "        </tr>\n",
       "        <tr>\n",
       "            <td>Not Free</td> <td>2787</td> <td>468 </td>\n",
       "        </tr>\n",
       "    </tbody>\n",
       "</table>"
      ],
      "text/plain": [
       "Word     | Ham  | Spam\n",
       "Free     | 13   | 32\n",
       "Not Free | 2787 | 468"
      ]
     },
     "execution_count": 37,
     "metadata": {},
     "output_type": "execute_result"
    }
   ],
   "source": [
    "# Complete the code\n",
    "inf_tab.pivot('Email','Word')"
   ]
  },
  {
   "cell_type": "markdown",
   "metadata": {},
   "source": [
    "Next we need to calculate the observed value of our test statistic from the data."
   ]
  },
  {
   "cell_type": "code",
   "execution_count": 38,
   "metadata": {},
   "outputs": [
    {
     "data": {
      "text/plain": [
       "19"
      ]
     },
     "execution_count": 38,
     "metadata": {},
     "output_type": "execute_result"
    }
   ],
   "source": [
    "# Complete the code using the inf_tab\n",
    "observed_difference = 32-13\n",
    "observed_difference"
   ]
  },
  {
   "cell_type": "markdown",
   "metadata": {},
   "source": [
    "The randomization process must be done carefully. We don't want to take an email and randomly assign the word free as in a coin flip. Instead, if the word free is really independent of the email type then we could shuffle the assignment of the word with the email type. This is how we will do our randomization. "
   ]
  },
  {
   "cell_type": "markdown",
   "metadata": {},
   "source": [
    "We will complete the sampling in a manner similar to the work in Lecture Notebook 9 of the second course."
   ]
  },
  {
   "cell_type": "code",
   "execution_count": 39,
   "metadata": {},
   "outputs": [
    {
     "data": {
      "text/html": [
       "<table border=\"1\" class=\"dataframe\">\n",
       "    <thead>\n",
       "        <tr>\n",
       "            <th>Email</th>\n",
       "        </tr>\n",
       "    </thead>\n",
       "    <tbody>\n",
       "        <tr>\n",
       "            <td>Spam </td>\n",
       "        </tr>\n",
       "        <tr>\n",
       "            <td>Spam </td>\n",
       "        </tr>\n",
       "        <tr>\n",
       "            <td>Spam </td>\n",
       "        </tr>\n",
       "        <tr>\n",
       "            <td>Spam </td>\n",
       "        </tr>\n",
       "        <tr>\n",
       "            <td>Spam </td>\n",
       "        </tr>\n",
       "        <tr>\n",
       "            <td>Spam </td>\n",
       "        </tr>\n",
       "        <tr>\n",
       "            <td>Spam </td>\n",
       "        </tr>\n",
       "        <tr>\n",
       "            <td>Spam </td>\n",
       "        </tr>\n",
       "        <tr>\n",
       "            <td>Spam </td>\n",
       "        </tr>\n",
       "        <tr>\n",
       "            <td>Spam </td>\n",
       "        </tr>\n",
       "    </tbody>\n",
       "</table>\n",
       "<p>... (3290 rows omitted)</p>"
      ],
      "text/plain": [
       "Email\n",
       "Spam\n",
       "Spam\n",
       "Spam\n",
       "Spam\n",
       "Spam\n",
       "Spam\n",
       "Spam\n",
       "Spam\n",
       "Spam\n",
       "Spam\n",
       "... (3290 rows omitted)"
      ]
     },
     "execution_count": 39,
     "metadata": {},
     "output_type": "execute_result"
    }
   ],
   "source": [
    "emails = inf_tab.select('Email')\n",
    "predictor = inf_tab.select('Word')\n",
    "emails"
   ]
  },
  {
   "cell_type": "markdown",
   "metadata": {},
   "source": [
    "For one simulation under the null hypothesis, we get the following result."
   ]
  },
  {
   "cell_type": "code",
   "execution_count": 40,
   "metadata": {},
   "outputs": [
    {
     "data": {
      "text/plain": [
       "array([-27])"
      ]
     },
     "execution_count": 40,
     "metadata": {},
     "output_type": "execute_result"
    }
   ],
   "source": [
    "# Run the cell\n",
    "shuffled_predictor = predictor.sample(with_replacement=False).column(0)\n",
    "shuffled_tbl = emails.with_column('Shuffled Result', shuffled_predictor)\n",
    "difference = np.diff(shuffled_tbl.pivot(\"Shuffled Result\",\"Email\").column(1))\n",
    "difference"
   ]
  },
  {
   "cell_type": "markdown",
   "metadata": {},
   "source": [
    "Now complete the code and run the loop 2000 times to get an empirical distribution of the test statistic."
   ]
  },
  {
   "cell_type": "code",
   "execution_count": 41,
   "metadata": {},
   "outputs": [],
   "source": [
    "# Complete the code\n",
    "differences = ds.make_array()\n",
    "\n",
    "for _ in np.arange(2000):\n",
    "    shuffled_predictor = predictor.sample(with_replacement=False).column(0)\n",
    "    shuffled_tbl = emails.with_column('Shuffled Result', shuffled_predictor)\n",
    "    new_differences = np.diff(shuffled_tbl.pivot(\"Shuffled Result\",\"Email\").column(1))\n",
    "    differences = np.append(differences,new_differences)"
   ]
  },
  {
   "cell_type": "markdown",
   "metadata": {},
   "source": [
    "Now display the results in a histogram with bins that run from -55 to 40 with a width of 5. If you are feeling ambitious, add a red dot for the observed value of the test statistic."
   ]
  },
  {
   "cell_type": "code",
   "execution_count": 42,
   "metadata": {},
   "outputs": [
    {
     "name": "stderr",
     "output_type": "stream",
     "text": [
      "C:\\Users\\C20Lydia.Knutson\\AppData\\Local\\Continuum\\anaconda3\\lib\\site-packages\\matplotlib\\axes\\_axes.py:6462: UserWarning: The 'normed' kwarg is deprecated, and has been replaced by the 'density' kwarg.\n",
      "  warnings.warn(\"The 'normed' kwarg is deprecated, and has been \"\n"
     ]
    },
    {
     "data": {
      "image/png": "[encoded data removed]",
      "text/plain": [
       "<Figure size 432x288 with 1 Axes>"
      ]
     },
     "metadata": {},
     "output_type": "display_data"
    }
   ],
   "source": [
    "# Complete the code\n",
    "ds.Table().with_column('Difference', differences).hist(bins=np.arange(-55,41,5), ec='w')\n",
    "#plots.scatter();"
   ]
  },
  {
   "cell_type": "markdown",
   "metadata": {},
   "source": [
    "If the null hypothesis were true, then we did not witness a single simulation with a result where the test statistic was positive let alone as high as our observed value of 19. The probability of our observed result is negligible, thus leading us to conclude that the word free appears in spam emails much more often than is expected by chance.\n",
    "\n",
    "We have to be careful about the assumptions of this test and generalizing the results to a larger population.\n",
    "\n",
    "This test assumes the percentage of spam emails is 13.16% and that the word free appears in a subject line about 1.3% of the time. We did not alter these percentages in the simulation.\n",
    "\n",
    "We also assumed the emails are representative of only those emails in the collections. Generalization to a larger population must be cautioned."
   ]
  },
  {
   "cell_type": "markdown",
   "metadata": {},
   "source": [
    "### 6. Simple Prediction Model"
   ]
  },
  {
   "cell_type": "markdown",
   "metadata": {},
   "source": [
    "We will use the word free to make a simple classifier. Our model is this: if the subject line contains the word free, we will classify it as spam, if not, then as ham. Since there is no learning, this is not a machine learning algorithmn. \n",
    "\n",
    "We will use the algorithm on all our data and measure the performance. This will help us explore metrics of performance.\n",
    "\n",
    "The pivot table we derived above gives us all the data we need to explore this simple model."
   ]
  },
  {
   "cell_type": "code",
   "execution_count": 43,
   "metadata": {},
   "outputs": [
    {
     "data": {
      "text/html": [
       "<table border=\"1\" class=\"dataframe\">\n",
       "    <thead>\n",
       "        <tr>\n",
       "            <th>Email</th> <th>Free</th> <th>Not Free</th>\n",
       "        </tr>\n",
       "    </thead>\n",
       "    <tbody>\n",
       "        <tr>\n",
       "            <td>Ham  </td> <td>13  </td> <td>2787    </td>\n",
       "        </tr>\n",
       "        <tr>\n",
       "            <td>Spam </td> <td>32  </td> <td>468     </td>\n",
       "        </tr>\n",
       "    </tbody>\n",
       "</table>"
      ],
      "text/plain": [
       "Email | Free | Not Free\n",
       "Ham   | 13   | 2787\n",
       "Spam  | 32   | 468"
      ]
     },
     "execution_count": 43,
     "metadata": {},
     "output_type": "execute_result"
    }
   ],
   "source": [
    "inf_tab.pivot(\"Word\",\"Email\")"
   ]
  },
  {
   "cell_type": "markdown",
   "metadata": {},
   "source": [
    "The predicted outcome of the model uses the rule: predict spam if the subject line contains the the word free. Thus the column called Free could be called Predict Spam and the column Not Free would be Predict Ham. If we, arbitrarily, call the case of an email having the word free as a positive result, then we have 32 true positives. We have 2787 true negatives, 13 false positive, and 468 false negatives. \n",
    "\n",
    "One measure of performance is accuracy, how many predictions were correct out of the total. Accuracy is\n",
    "\n",
    "$$\n",
    "{(TP + TN) \\over (TP + TN + FP + FN)}\n",
    "$$"
   ]
  },
  {
   "cell_type": "markdown",
   "metadata": {},
   "source": [
    "Print the predicted accuracy."
   ]
  },
  {
   "cell_type": "code",
   "execution_count": 44,
   "metadata": {},
   "outputs": [
    {
     "name": "stdout",
     "output_type": "stream",
     "text": [
      "Accuracy for calling everything ham is: 85.42%\n"
     ]
    }
   ],
   "source": [
    "print(\"Accuracy for calling everything ham is: {:.2%}\".format((32+2787)/(2787+32+13+468)))"
   ]
  },
  {
   "cell_type": "markdown",
   "metadata": {},
   "source": [
    "Other metrics are the recall and precision. \n",
    "\n",
    "Recall is the percentage of all true spam emails that we correctly classified.\n",
    "$$\n",
    "{TP \\over (TP + FN)}\n",
    "$$\n",
    "and precision is the precentage of all predicted spam emails that we correctly classified.\n",
    "\n",
    "$$\n",
    "{TP \\over (TP + FP)}\n",
    "$$"
   ]
  },
  {
   "cell_type": "markdown",
   "metadata": {},
   "source": [
    "Print the estimated recall and precision."
   ]
  },
  {
   "cell_type": "code",
   "execution_count": 45,
   "metadata": {},
   "outputs": [
    {
     "name": "stdout",
     "output_type": "stream",
     "text": [
      "Recall is: 6.40%\n",
      "Precision is: 71.11%\n"
     ]
    }
   ],
   "source": [
    "print(\"Recall is: {:.2%}\".format(32/(32+468)))\n",
    "print(\"Precision is: {:.2%}\".format(32/(32+13)))"
   ]
  },
  {
   "cell_type": "markdown",
   "metadata": {},
   "source": [
    "Of the emails that were spam, we only identified 32 of them with our model. \n",
    "\n",
    "Of all the emails we called spam, 32 were spam. \n",
    "\n",
    "These metrics gives a much different impression of the classifier.\n",
    "\n",
    "We can combine these as a geometric mean to get a single number, this is called the $F_{1}$ score and is\n",
    "$$\n",
    "F_{1}={1 \\over {1 \\over Precision} + {1 \\over Recall}}\n",
    "$$"
   ]
  },
  {
   "cell_type": "markdown",
   "metadata": {},
   "source": [
    "Print the observed $F1$ metric."
   ]
  },
  {
   "cell_type": "code",
   "execution_count": 46,
   "metadata": {},
   "outputs": [
    {
     "name": "stdout",
     "output_type": "stream",
     "text": [
      "F1 score is: 5.87%\n"
     ]
    }
   ],
   "source": [
    "recall = (32)/(32+468)\n",
    "precision = (32)/(32+13)\n",
    "print(\"F1 score is: {:.2%}\".format(1/(1/precision+1/recall)))"
   ]
  },
  {
   "cell_type": "markdown",
   "metadata": {},
   "source": [
    "Create a function the accepts tp,fp,tn, and fn and prints out the accuracy, precision, recall and F1."
   ]
  },
  {
   "cell_type": "code",
   "execution_count": 47,
   "metadata": {},
   "outputs": [],
   "source": [
    "# Complete the code\n",
    "def classification_performance(tp,fp,tn,fn):\n",
    "    accuracy = (tp+tn)/(tp+tn+fn+fp)\n",
    "    print(\"Accuracy is: {:.2%}\".format(accuracy))\n",
    "    precision = (tp/(tp+fp))\n",
    "    print(\"Precision is: {:.2%}\".format(precision))\n",
    "    recall = (tp/(tp+fn))\n",
    "    print(\"Recall is: {:.2%}\".format(recall))\n",
    "    F1 = (1/(1/precision+1/recall))\n",
    "    print(\"F1 score is: {:.2%}\".format(F1))\n",
    "    return accuracy,precision,recall,F1"
   ]
  },
  {
   "cell_type": "markdown",
   "metadata": {},
   "source": [
    "Run your function with the numbers from our data."
   ]
  },
  {
   "cell_type": "code",
   "execution_count": 48,
   "metadata": {},
   "outputs": [
    {
     "name": "stdout",
     "output_type": "stream",
     "text": [
      "Accuracy is: 85.42%\n",
      "Precision is: 71.11%\n",
      "Recall is: 6.40%\n",
      "F1 score is: 5.87%\n"
     ]
    }
   ],
   "source": [
    "classification_performance(32,13,2787,468);"
   ]
  },
  {
   "cell_type": "markdown",
   "metadata": {},
   "source": [
    "This is not a good classifier because we are missing so many of the spam emails by predicting they are ham."
   ]
  },
  {
   "cell_type": "markdown",
   "metadata": {},
   "source": [
    "As preparation for our naive Bayes classifier, let's look at our results from a probability perspective."
   ]
  },
  {
   "cell_type": "markdown",
   "metadata": {},
   "source": [
    "Let's use the table to make some probability calculations. We can estimate probabilities from this table. We have  \n",
    "\n",
    "$$ P({\\rm Free}~| ~{\\rm Spam}) = {P({\\rm Free} \\cap {\\rm Spam}) \\over P({\\rm Spam})} = {32 \\over 500}$$   \n",
    "\n",
    "$$ P({\\rm Free}~| ~{\\rm Ham}) = {P({\\rm Free} \\cap {\\rm Ham}) \\over P({\\rm Ham})} = {13 \\over 2800}$$   \n",
    "\n",
    "$$ P({\\rm Spam}) = {500 \\over 3300}$$   \n",
    "\n",
    "$$ P({\\rm Ham}) = {2800 \\over 3300}$$  \n",
    " \n",
    "We could have calculated these next probabilities directly but we will use Bayes Theorem.  \n",
    "\n",
    "$$ P({\\rm Spam}~| ~{\\rm Free}) = {P({\\rm Free} \\cap {\\rm Spam}) \\over P({\\rm Free})} = {P({\\rm Free}~| ~{\\rm Spam})P({\\rm Spam}) \\over P({\\rm Free})} = {32 \\over 45}$$\n",
    "where\n",
    "$$P({\\rm Free})= P(\\rm Free \\cap \\rm Spam) + P(\\rm Free \\cap \\rm Ham)=P({\\rm Free}~| ~{\\rm Spam})P({\\rm Spam}) + P({\\rm Free}~| ~{\\rm Ham})P({\\rm Ham})$$"
   ]
  },
  {
   "cell_type": "code",
   "execution_count": 49,
   "metadata": {},
   "outputs": [],
   "source": [
    "# Test the ideas\n",
    "fgs=32/500\n",
    "fgh=13/2800\n",
    "s=500/3300\n",
    "h=2800/3300"
   ]
  },
  {
   "cell_type": "code",
   "execution_count": 50,
   "metadata": {},
   "outputs": [
    {
     "name": "stdout",
     "output_type": "stream",
     "text": [
      "The probability of an email being spam given it contains the word free is: 71.11%\n"
     ]
    }
   ],
   "source": [
    "print(\"The probability of an email being spam given it contains the word free is: {:.2%}\".format((fgs*s)/(\n",
    "    fgs*s+fgh*h)))"
   ]
  },
  {
   "cell_type": "markdown",
   "metadata": {},
   "source": [
    "To make the model more sophisticated, we could add a second word such as get. The issue here is the we will have to estimate  \n",
    "\n",
    "$$P({\\rm Free} \\cap {\\rm Get}~ | ~{\\rm Spam})$$  \n",
    "\n",
    "$$P({\\rm Free} \\cap {\\rm Not}~{\\rm Get} ~| ~{\\rm Spam})$$  \n",
    "\n",
    "$$P({\\rm Not}~{\\rm Free} \\cap {\\rm Get} ~ | ~{\\rm Spam})$$  \n",
    "\n",
    "$$P({\\rm Not}~{\\rm Free} \\cap {\\rm Not}~{\\rm Get} ~ | ~{\\rm Spam})$$  \n",
    "\n",
    "and likewise for ham. This starts to get difficult quickly. \n",
    "\n",
    "A simplifying assumption is needed to reduce the computational difficulty."
   ]
  },
  {
   "cell_type": "markdown",
   "metadata": {},
   "source": [
    "### 7. Naive Bayes Classification"
   ]
  },
  {
   "cell_type": "markdown",
   "metadata": {},
   "source": [
    "Naive Bayes models are based on an extreme assumption of conditional independence. They are fast and easy to implement. They work well with high dimensional data. They work reasonably well in text applications and thus are why we are exploring them. There are really no tuning parameters, so learning is easy. They make a great starting point for a baseline model and sometimes are used as the final model.\n",
    "\n",
    "This section will implement a naive Bayes model for our spam classification problem."
   ]
  },
  {
   "cell_type": "markdown",
   "metadata": {},
   "source": [
    "### Bayesian Classification\n",
    "\n",
    "This section is based on notes from http://nbviewer.jupyter.org/github/jakevdp/PythonDataScienceHandbook/blob/master/notebooks/05.05-Naive-Bayes.ipynb\n",
    "\n",
    "Naive Bayes is a Bayesian classification method; these methods use Bayes' theorem. We explored this at the end of Section 6.\n",
    "\n",
    "In Bayesian classification, we're interested in finding the probability of a label given some observed features, which we can write as $P(L~|~{\\rm features})$.\n",
    "Bayes' theorem tells us how to express this in terms of quantities we can compute more directly:\n",
    "\n",
    "$$\n",
    "P(L~|~{\\rm features}) = \\frac{P({\\rm features}~|~L)P(L)}{P({\\rm features})}\n",
    "$$\n",
    "\n",
    "When we write $P({\\rm features})$ we mean a joint probability, for example $P({\\rm Free} \\cap {\\rm Get})$.\n",
    "\n",
    "It is only the numerator that matters as the denominator will be the same in all calculations for the different labels.\n",
    "\n",
    "For example, suppose we are trying to decide between two labels—let's call them $L_1$ and $L_2$—then one way to make this decision is to compute the ratio of the posterior probabilities for each label:\n",
    "\n",
    "$$\n",
    "\\frac{P(L_1~|~{\\rm features})}{P(L_2~|~{\\rm features})} = \\frac{P({\\rm features}~|~L_1)}{P({\\rm features}~|~L_2)}\\frac{P(L_1)}{P(L_2)}\n",
    "$$\n",
    "\n",
    "Notice that the joint probability, $P(\\rm features)$, does not matter. If the ratio is greater than one, then $P(L_1~|~{\\rm features})$ is larger and you would select $L_{1}$ as the predicted outcome. You don't need to find the ratio, you simply need to find the maximum of $P(L_i~|~{\\rm features})$ for each label.\n",
    "\n",
    "Next we need an algorithm to compute $P({\\rm features}~|~L_i)$ for each label. We could do a lookup table as we did in Section 6 but once we start adding many features this becomes too computationally expensive. The different assumptions about this calculation lead to the different types of Bayesian classifiers. In the naive Bayes model we make the assumption of conditional independence. This means within each label, for example a spam email, each word is independent of the others. This is clearly not going to be the case but the resulting model still has a practical use. \n",
    "\n",
    "To implement a naive Bayes classifier, we must only calculate the within label univariate density for continuous features, or probability mass for discrete features. The joint distribution is found by multiplying these univariate distributions. Once the univariate distributions have been estimated, the posterior calculaton is fast. For discrete text data, we only need to estimate the frequency of each word in each label. Then for multiple words we calculate the joint probability as the product of these individual probabilities. For example\n",
    "$$P({\\rm Free} \\cap {\\rm Get}~ | ~{\\rm Spam}) = P({\\rm Free}~ | ~{\\rm Spam})P({\\rm Get}~ | ~{\\rm Spam})$$  \n",
    "\n",
    "There are still some logistical issues to resolve. First, what if a word does not appear in a subject line? This would lead to a zero estimated probability and thus the joint probability would be zero as well. A solution to this problem is to use a psuedocount. This is determined as follows:\n",
    "\n",
    "$$P({\\rm Word}~ |~ {\\rm Spam}) = {\\mbox{Number of times Word appears in Subject line} + k \\over \\mbox{Number of Subject lines} +2k}$$  \n",
    "\n",
    "where $k$ does not need to be an integer.\n",
    "\n",
    "Second, when we estimate the univariate probabilities, they tend to be small. If the subject has many words, then the product will be extrememly small. We can handle this by working with logarithms.\n",
    "\n",
    "Finally, we need to get our training and test data. We will attack this next."
   ]
  },
  {
   "cell_type": "markdown",
   "metadata": {},
   "source": [
    "#### Test and Training Data\n",
    "\n",
    "We will divide the data into testing and training data. In general, we use the training data to build a model, and we use the test data to evaluate the model. We have a couple of concerns. Since spam emails are rare, we need to make sure our sampling method selects enough of them. Second it may be the case that the testing set contains a word not in the training set. In this case we can just ignore it or develop a larger vocabulary then is in the training set. We will just ignore the word in our analysis.\n",
    "\n",
    "Let's start by splitting our data into a training and testing set. We will use 80% of the data in the training, or 2640 emails."
   ]
  },
  {
   "cell_type": "code",
   "execution_count": 51,
   "metadata": {},
   "outputs": [],
   "source": [
    "np.random.seed(2020)\n",
    "shuffled_spam = Spam_data_table.sample(with_replacement=False)\n",
    "training = shuffled_spam.take(np.arange(2640))\n",
    "testing = shuffled_spam.take(np.arange(2640, 3300))"
   ]
  },
  {
   "cell_type": "code",
   "execution_count": 52,
   "metadata": {},
   "outputs": [
    {
     "data": {
      "text/html": [
       "<table border=\"1\" class=\"dataframe\">\n",
       "    <thead>\n",
       "        <tr>\n",
       "            <th>Spam</th> <th>count</th>\n",
       "        </tr>\n",
       "    </thead>\n",
       "    <tbody>\n",
       "        <tr>\n",
       "            <td>False</td> <td>2232 </td>\n",
       "        </tr>\n",
       "        <tr>\n",
       "            <td>True </td> <td>408  </td>\n",
       "        </tr>\n",
       "    </tbody>\n",
       "</table>"
      ],
      "text/plain": [
       "Spam  | count\n",
       "False | 2232\n",
       "True  | 408"
      ]
     },
     "execution_count": 52,
     "metadata": {},
     "output_type": "execute_result"
    }
   ],
   "source": [
    "training.group(\"Spam\")"
   ]
  },
  {
   "cell_type": "code",
   "execution_count": 53,
   "metadata": {},
   "outputs": [
    {
     "data": {
      "text/html": [
       "<table border=\"1\" class=\"dataframe\">\n",
       "    <thead>\n",
       "        <tr>\n",
       "            <th>Spam</th> <th>count</th>\n",
       "        </tr>\n",
       "    </thead>\n",
       "    <tbody>\n",
       "        <tr>\n",
       "            <td>False</td> <td>568  </td>\n",
       "        </tr>\n",
       "        <tr>\n",
       "            <td>True </td> <td>92   </td>\n",
       "        </tr>\n",
       "    </tbody>\n",
       "</table>"
      ],
      "text/plain": [
       "Spam  | count\n",
       "False | 568\n",
       "True  | 92"
      ]
     },
     "execution_count": 53,
     "metadata": {},
     "output_type": "execute_result"
    }
   ],
   "source": [
    "testing.group('Spam')"
   ]
  },
  {
   "cell_type": "code",
   "execution_count": 54,
   "metadata": {},
   "outputs": [
    {
     "name": "stdout",
     "output_type": "stream",
     "text": [
      "Number of training data points:  2640\n",
      "Percent of data in training: 80.00%\n",
      "Number of Spam in training:  408\n",
      "Percent of Spam in training: 81.60%\n",
      "Number of testing data points:  660\n",
      "Number of Spam in testing:  92\n",
      "Percent of Spam in testing: 18.40%\n"
     ]
    }
   ],
   "source": [
    "# Report Summary of spliting\n",
    "print(\"Number of training data points: \",(408+2232))\n",
    "print(\"Percent of data in training: {:.2%}\".format(2640/3300))\n",
    "print(\"Number of Spam in training: \",training.group('Spam').column(1).item(1))\n",
    "print(\"Percent of Spam in training: {:.2%}\".format(408/500))\n",
    "print(\"Number of testing data points: \",(568+92))\n",
    "print(\"Number of Spam in testing: \",testing.group('Spam').column(1).item(1))\n",
    "print(\"Percent of Spam in testing: {:.2%}\".format(92/500))"
   ]
  },
  {
   "cell_type": "markdown",
   "metadata": {},
   "source": [
    "We could use the split command as well:\n",
    "\n",
    "training,testing = Spam_data_table.split(2640)"
   ]
  },
  {
   "cell_type": "markdown",
   "metadata": {},
   "source": [
    "Look at the training data."
   ]
  },
  {
   "cell_type": "code",
   "execution_count": 55,
   "metadata": {},
   "outputs": [
    {
     "data": {
      "text/html": [
       "<table border=\"1\" class=\"dataframe\">\n",
       "    <thead>\n",
       "        <tr>\n",
       "            <th>Subject Line</th> <th>Spam</th>\n",
       "        </tr>\n",
       "    </thead>\n",
       "    <tbody>\n",
       "        <tr>\n",
       "            <td>=?big5?Q?re:=A7=DA=AA=BE=B9D=A7A=BB=DD=ADn=A7=F3=A6h=BE= ...</td> <td>True </td>\n",
       "        </tr>\n",
       "        <tr>\n",
       "            <td>Re[2]: AA Meetings the Hottest Place to Meet Women With  ...</td> <td>False</td>\n",
       "        </tr>\n",
       "        <tr>\n",
       "            <td>Re: [Razor-users] Using razor with maildrop                 </td> <td>False</td>\n",
       "        </tr>\n",
       "        <tr>\n",
       "            <td>-> IN THE NEWS TODAY <----                                  </td> <td>True </td>\n",
       "        </tr>\n",
       "        <tr>\n",
       "            <td>Ken Dow reports that the current version of OmniOutliner ...</td> <td>False</td>\n",
       "        </tr>\n",
       "        <tr>\n",
       "            <td>Slaughter in the Name of God                                </td> <td>False</td>\n",
       "        </tr>\n",
       "        <tr>\n",
       "            <td>Education debate                                            </td> <td>False</td>\n",
       "        </tr>\n",
       "        <tr>\n",
       "            <td>Re: DataPower announces XML-in-silicon                      </td> <td>False</td>\n",
       "        </tr>\n",
       "        <tr>\n",
       "            <td>traceback in new exmh                                       </td> <td>False</td>\n",
       "        </tr>\n",
       "        <tr>\n",
       "            <td>Re: [zzzzteana] That wacky imam                             </td> <td>False</td>\n",
       "        </tr>\n",
       "    </tbody>\n",
       "</table>\n",
       "<p>... (2630 rows omitted)</p>"
      ],
      "text/plain": [
       "Subject Line                                                 | Spam\n",
       "=?big5?Q?re:=A7=DA=AA=BE=B9D=A7A=BB=DD=ADn=A7=F3=A6h=BE= ... | True\n",
       "Re[2]: AA Meetings the Hottest Place to Meet Women With  ... | False\n",
       "Re: [Razor-users] Using razor with maildrop                  | False\n",
       "-> IN THE NEWS TODAY <----                                   | True\n",
       "Ken Dow reports that the current version of OmniOutliner ... | False\n",
       "Slaughter in the Name of God                                 | False\n",
       "Education debate                                             | False\n",
       "Re: DataPower announces XML-in-silicon                       | False\n",
       "traceback in new exmh                                        | False\n",
       "Re: [zzzzteana] That wacky imam                              | False\n",
       "... (2630 rows omitted)"
      ]
     },
     "execution_count": 55,
     "metadata": {},
     "output_type": "execute_result"
    }
   ],
   "source": [
    "training"
   ]
  },
  {
   "cell_type": "markdown",
   "metadata": {},
   "source": [
    "Set variables to the number of training, number of spam in training, and number of ham in training."
   ]
  },
  {
   "cell_type": "code",
   "execution_count": 56,
   "metadata": {},
   "outputs": [
    {
     "name": "stdout",
     "output_type": "stream",
     "text": [
      "2640\n",
      "408\n",
      "2232\n"
     ]
    }
   ],
   "source": [
    "# Complete the code\n",
    "num_train = training.num_rows\n",
    "num_spam_train = training.where('Spam',True).num_rows\n",
    "num_ham_train = training.where('Spam',False).num_rows\n",
    "print(num_train)\n",
    "print(num_spam_train)\n",
    "print(num_ham_train)"
   ]
  },
  {
   "cell_type": "markdown",
   "metadata": {},
   "source": [
    "#### Data Preparation"
   ]
  },
  {
   "cell_type": "markdown",
   "metadata": {},
   "source": [
    "Let's write a function to create the spam and ham word count tables."
   ]
  },
  {
   "cell_type": "code",
   "execution_count": 57,
   "metadata": {},
   "outputs": [],
   "source": [
    "# Complete the code \n",
    "def count_words(train):\n",
    "    \"\"\"\n",
    "    Returns a tuple of tables, first is spam word counts and second is ham word counts\n",
    "    \n",
    "    train is a table of training data\n",
    "    \"\"\"\n",
    "    # Spam\n",
    "    Spam_data_table_spamonly = train.where('Spam',True)\n",
    "    #\n",
    "    # Apply the token function to each subject line\n",
    "    Spam_data_table_token = Spam_data_table_spamonly.with_columns(\"Subject\",Spam_data_table_spamonly.\\\n",
    "    apply(token,\"Subject Line\")).drop(0).select(\"Subject\",\"Spam\").relabel(\"Subject\",\"Subject Line\")\n",
    "    #\n",
    "    # Get counts and frequency\n",
    "    # Flatten first\n",
    "    spam_words = [item for sublist in Spam_data_table_token.column(0) for item in sublist]\n",
    "    #\n",
    "    # Put into a table\n",
    "    spam_table = ds.Table().with_columns(\"Words\",spam_words)\n",
    "    spam_word_counts = spam_table.group('Words').sort('count',descending=True).relabel('count','Spam Count')\n",
    "    #\n",
    "    # Now for the ham\n",
    "    Ham_data_table_hamonly = train.where('Spam',False)\n",
    "    Ham_data_table_token =Ham_data_table_hamonly.with_columns(\"Subject\",Ham_data_table_hamonly.\\\n",
    "    apply(token,\"Subject Line\")).drop(0).select(\"Subject\",\"Spam\").relabel(\"Subject\",\"Subject Line\")\n",
    "    # Get counts and frequency\n",
    "    # Flatten first\n",
    "    ham_words = [item for sublist in Ham_data_table_token.column(0) for item in sublist]\n",
    "    # Put into a table\n",
    "    ham_table = ds.Table().with_column('Words',ham_words)\n",
    "    ham_word_counts = ham_table.group('Words').sort('count',descending=True).relabel('count','Ham Count')\n",
    "    return spam_word_counts,ham_word_counts"
   ]
  },
  {
   "cell_type": "markdown",
   "metadata": {},
   "source": [
    "Run the code to test it."
   ]
  },
  {
   "cell_type": "code",
   "execution_count": 58,
   "metadata": {},
   "outputs": [],
   "source": [
    "temps,temph=count_words(training)"
   ]
  },
  {
   "cell_type": "code",
   "execution_count": 59,
   "metadata": {},
   "outputs": [
    {
     "data": {
      "text/html": [
       "<table border=\"1\" class=\"dataframe\">\n",
       "    <thead>\n",
       "        <tr>\n",
       "            <th>Words</th> <th>Ham Count</th>\n",
       "        </tr>\n",
       "    </thead>\n",
       "    <tbody>\n",
       "        <tr>\n",
       "            <td>spambayes</td> <td>104      </td>\n",
       "        </tr>\n",
       "        <tr>\n",
       "            <td>satalk   </td> <td>104      </td>\n",
       "        </tr>\n",
       "        <tr>\n",
       "            <td>new      </td> <td>92       </td>\n",
       "        </tr>\n",
       "        <tr>\n",
       "            <td>2        </td> <td>83       </td>\n",
       "        </tr>\n",
       "        <tr>\n",
       "            <td>users    </td> <td>80       </td>\n",
       "        </tr>\n",
       "        <tr>\n",
       "            <td>use      </td> <td>75       </td>\n",
       "        </tr>\n",
       "        <tr>\n",
       "            <td>2002     </td> <td>75       </td>\n",
       "        </tr>\n",
       "        <tr>\n",
       "            <td>zzzzteana</td> <td>71       </td>\n",
       "        </tr>\n",
       "        <tr>\n",
       "            <td>razor    </td> <td>70       </td>\n",
       "        </tr>\n",
       "        <tr>\n",
       "            <td>ilug     </td> <td>69       </td>\n",
       "        </tr>\n",
       "    </tbody>\n",
       "</table>\n",
       "<p>... (3240 rows omitted)</p>"
      ],
      "text/plain": [
       "Words     | Ham Count\n",
       "spambayes | 104\n",
       "satalk    | 104\n",
       "new       | 92\n",
       "2         | 83\n",
       "users     | 80\n",
       "use       | 75\n",
       "2002      | 75\n",
       "zzzzteana | 71\n",
       "razor     | 70\n",
       "ilug      | 69\n",
       "... (3240 rows omitted)"
      ]
     },
     "execution_count": 59,
     "metadata": {},
     "output_type": "execute_result"
    }
   ],
   "source": [
    "temph"
   ]
  },
  {
   "cell_type": "markdown",
   "metadata": {},
   "source": [
    "Write a function to get the conditional probabilities."
   ]
  },
  {
   "cell_type": "code",
   "execution_count": 60,
   "metadata": {},
   "outputs": [],
   "source": [
    "def word_prob_table(table, total, k = 0.5):\n",
    "    \"\"\"\n",
    "    Returns a table with Words and Frequency. Note: Frequency is the estimated probability.\n",
    "    \n",
    "    table is count data where first column is word and second is count\n",
    "    k is psuedocount smmother parameter\n",
    "    total is the total number of subject lines\n",
    "    \"\"\"\n",
    "    temp_table=table.with_column('Frequency',\\\n",
    "        (table.column(1)+k)/(total + 2*k)).\\\n",
    "        set_format(\"Frequency\", ds.NumberFormatter(decimals=4)).drop(1)\n",
    "    return temp_table"
   ]
  },
  {
   "cell_type": "markdown",
   "metadata": {},
   "source": [
    " Run the word_prob_table function on temps from above."
   ]
  },
  {
   "cell_type": "code",
   "execution_count": 61,
   "metadata": {},
   "outputs": [
    {
     "data": {
      "text/html": [
       "<table border=\"1\" class=\"dataframe\">\n",
       "    <thead>\n",
       "        <tr>\n",
       "            <th>Words</th> <th>Frequency</th>\n",
       "        </tr>\n",
       "    </thead>\n",
       "    <tbody>\n",
       "        <tr>\n",
       "            <td>ilug  </td> <td>0.0917   </td>\n",
       "        </tr>\n",
       "        <tr>\n",
       "            <td>free  </td> <td>0.0672   </td>\n",
       "        </tr>\n",
       "        <tr>\n",
       "            <td>best  </td> <td>0.0403   </td>\n",
       "        </tr>\n",
       "        <tr>\n",
       "            <td>adv   </td> <td>0.0403   </td>\n",
       "        </tr>\n",
       "        <tr>\n",
       "            <td>rates </td> <td>0.0379   </td>\n",
       "        </tr>\n",
       "        <tr>\n",
       "            <td>get   </td> <td>0.0379   </td>\n",
       "        </tr>\n",
       "        <tr>\n",
       "            <td>money </td> <td>0.0355   </td>\n",
       "        </tr>\n",
       "        <tr>\n",
       "            <td>home  </td> <td>0.0330   </td>\n",
       "        </tr>\n",
       "        <tr>\n",
       "            <td>social</td> <td>0.0306   </td>\n",
       "        </tr>\n",
       "        <tr>\n",
       "            <td>new   </td> <td>0.0306   </td>\n",
       "        </tr>\n",
       "    </tbody>\n",
       "</table>\n",
       "<p>... (975 rows omitted)</p>"
      ],
      "text/plain": [
       "Words  | Frequency\n",
       "ilug   | 0.0917\n",
       "free   | 0.0672\n",
       "best   | 0.0403\n",
       "adv    | 0.0403\n",
       "rates  | 0.0379\n",
       "get    | 0.0379\n",
       "money  | 0.0355\n",
       "home   | 0.0330\n",
       "social | 0.0306\n",
       "new    | 0.0306\n",
       "... (975 rows omitted)"
      ]
     },
     "execution_count": 61,
     "metadata": {},
     "output_type": "execute_result"
    }
   ],
   "source": [
    "word_prob_table(temps,num_spam_train)"
   ]
  },
  {
   "cell_type": "code",
   "execution_count": 62,
   "metadata": {},
   "outputs": [
    {
     "data": {
      "text/html": [
       "<table border=\"1\" class=\"dataframe\">\n",
       "    <thead>\n",
       "        <tr>\n",
       "            <th>Words</th> <th>Frequency</th>\n",
       "        </tr>\n",
       "    </thead>\n",
       "    <tbody>\n",
       "        <tr>\n",
       "            <td>spambayes</td> <td>0.0468   </td>\n",
       "        </tr>\n",
       "        <tr>\n",
       "            <td>satalk   </td> <td>0.0468   </td>\n",
       "        </tr>\n",
       "        <tr>\n",
       "            <td>new      </td> <td>0.0414   </td>\n",
       "        </tr>\n",
       "        <tr>\n",
       "            <td>2        </td> <td>0.0374   </td>\n",
       "        </tr>\n",
       "        <tr>\n",
       "            <td>users    </td> <td>0.0361   </td>\n",
       "        </tr>\n",
       "        <tr>\n",
       "            <td>use      </td> <td>0.0338   </td>\n",
       "        </tr>\n",
       "        <tr>\n",
       "            <td>2002     </td> <td>0.0338   </td>\n",
       "        </tr>\n",
       "        <tr>\n",
       "            <td>zzzzteana</td> <td>0.0320   </td>\n",
       "        </tr>\n",
       "        <tr>\n",
       "            <td>razor    </td> <td>0.0316   </td>\n",
       "        </tr>\n",
       "        <tr>\n",
       "            <td>ilug     </td> <td>0.0311   </td>\n",
       "        </tr>\n",
       "    </tbody>\n",
       "</table>\n",
       "<p>... (3240 rows omitted)</p>"
      ],
      "text/plain": [
       "Words     | Frequency\n",
       "spambayes | 0.0468\n",
       "satalk    | 0.0468\n",
       "new       | 0.0414\n",
       "2         | 0.0374\n",
       "users     | 0.0361\n",
       "use       | 0.0338\n",
       "2002      | 0.0338\n",
       "zzzzteana | 0.0320\n",
       "razor     | 0.0316\n",
       "ilug      | 0.0311\n",
       "... (3240 rows omitted)"
      ]
     },
     "execution_count": 62,
     "metadata": {},
     "output_type": "execute_result"
    }
   ],
   "source": [
    "word_prob_table(temph,num_ham_train)"
   ]
  },
  {
   "cell_type": "markdown",
   "metadata": {},
   "source": [
    "Next write a function to merge the tables for ham and spam."
   ]
  },
  {
   "cell_type": "code",
   "execution_count": 63,
   "metadata": {},
   "outputs": [],
   "source": [
    "def merge_prob_tables(table1,table2,total1,total2,k=0.5):\n",
    "    \"\"\"\n",
    "    Returns a table with words and conditional probabilities\n",
    "    \n",
    "    table1 is a word frequency table with two columns the first is Words\n",
    "    table2 is a word frequency table with two columns the first is Words\n",
    "    total1 total number of subject lines in first table\n",
    "    total2 total number of subject lines in second table\n",
    "    \"\"\"\n",
    "    temp_table=pd.merge(table1.to_df(),table2.to_df(),how=\"outer\",on=\"Words\")\n",
    "    temp_table.fillna({\"Frequency_x\":k/(total1+2*k),\"Frequency_y\":k/(total2+2*k)},inplace=True)\n",
    "    temp_table = ds.Table.from_df(temp_table)\n",
    "    temp_table.relabel(\"Frequency_x\",\"SpamFreq\")\n",
    "    temp_table.relabel(\"Frequency_y\",\"HamFreq\")\n",
    "    return temp_table"
   ]
  },
  {
   "cell_type": "markdown",
   "metadata": {},
   "source": [
    "Get the probabilities for both spam and ham."
   ]
  },
  {
   "cell_type": "code",
   "execution_count": 64,
   "metadata": {},
   "outputs": [],
   "source": [
    "spam_prob = word_prob_table(temps,num_spam_train)\n",
    "ham_prob = word_prob_table(temph,num_ham_train)"
   ]
  },
  {
   "cell_type": "markdown",
   "metadata": {},
   "source": [
    "Merge the tables."
   ]
  },
  {
   "cell_type": "code",
   "execution_count": 65,
   "metadata": {},
   "outputs": [
    {
     "data": {
      "text/html": [
       "<table border=\"1\" class=\"dataframe\">\n",
       "    <thead>\n",
       "        <tr>\n",
       "            <th>Words</th> <th>SpamFreq</th> <th>HamFreq</th>\n",
       "        </tr>\n",
       "    </thead>\n",
       "    <tbody>\n",
       "        <tr>\n",
       "            <td>ilug  </td> <td>0.091687 </td> <td>0.031124   </td>\n",
       "        </tr>\n",
       "        <tr>\n",
       "            <td>free  </td> <td>0.0672372</td> <td>0.00425437 </td>\n",
       "        </tr>\n",
       "        <tr>\n",
       "            <td>best  </td> <td>0.0403423</td> <td>0.00201523 </td>\n",
       "        </tr>\n",
       "        <tr>\n",
       "            <td>adv   </td> <td>0.0403423</td> <td>0.000223914</td>\n",
       "        </tr>\n",
       "        <tr>\n",
       "            <td>rates </td> <td>0.0378973</td> <td>0.000223914</td>\n",
       "        </tr>\n",
       "        <tr>\n",
       "            <td>get   </td> <td>0.0378973</td> <td>0.0118674  </td>\n",
       "        </tr>\n",
       "        <tr>\n",
       "            <td>money </td> <td>0.0354523</td> <td>0.000223914</td>\n",
       "        </tr>\n",
       "        <tr>\n",
       "            <td>home  </td> <td>0.0330073</td> <td>0.00291088 </td>\n",
       "        </tr>\n",
       "        <tr>\n",
       "            <td>social</td> <td>0.0305623</td> <td>0.000671742</td>\n",
       "        </tr>\n",
       "        <tr>\n",
       "            <td>new   </td> <td>0.0305623</td> <td>0.0414241  </td>\n",
       "        </tr>\n",
       "    </tbody>\n",
       "</table>\n",
       "<p>... (3846 rows omitted)</p>"
      ],
      "text/plain": [
       "Words  | SpamFreq  | HamFreq\n",
       "ilug   | 0.091687  | 0.031124\n",
       "free   | 0.0672372 | 0.00425437\n",
       "best   | 0.0403423 | 0.00201523\n",
       "adv    | 0.0403423 | 0.000223914\n",
       "rates  | 0.0378973 | 0.000223914\n",
       "get    | 0.0378973 | 0.0118674\n",
       "money  | 0.0354523 | 0.000223914\n",
       "home   | 0.0330073 | 0.00291088\n",
       "social | 0.0305623 | 0.000671742\n",
       "new    | 0.0305623 | 0.0414241\n",
       "... (3846 rows omitted)"
      ]
     },
     "execution_count": 65,
     "metadata": {},
     "output_type": "execute_result"
    }
   ],
   "source": [
    "word_prob=merge_prob_tables(spam_prob,ham_prob,num_spam_train,num_ham_train)\n",
    "word_prob"
   ]
  },
  {
   "cell_type": "markdown",
   "metadata": {},
   "source": [
    "As a check, get the probabilities for the word free."
   ]
  },
  {
   "cell_type": "code",
   "execution_count": 66,
   "metadata": {},
   "outputs": [
    {
     "data": {
      "text/html": [
       "<table border=\"1\" class=\"dataframe\">\n",
       "    <thead>\n",
       "        <tr>\n",
       "            <th>Words</th> <th>SpamFreq</th> <th>HamFreq</th>\n",
       "        </tr>\n",
       "    </thead>\n",
       "    <tbody>\n",
       "        <tr>\n",
       "            <td>free </td> <td>0.0672372</td> <td>0.00425437</td>\n",
       "        </tr>\n",
       "    </tbody>\n",
       "</table>"
      ],
      "text/plain": [
       "Words | SpamFreq  | HamFreq\n",
       "free  | 0.0672372 | 0.00425437"
      ]
     },
     "execution_count": 66,
     "metadata": {},
     "output_type": "execute_result"
    }
   ],
   "source": [
    "word_prob.where(\"Words\",\"free\")"
   ]
  },
  {
   "cell_type": "markdown",
   "metadata": {},
   "source": [
    "Now we need to calculate the probability of spam and ham based on the words. This is our prediction model."
   ]
  },
  {
   "cell_type": "markdown",
   "metadata": {},
   "source": [
    "#### Prediction\n",
    "\n",
    "To predict we tokeinze a message and then go through our vocabulary to calculate probabilities. Remember that because the product will be small, we will sum the logarithms of the probabilities. We will calculate the probability of spam and ham and then take the larger as our prediction. This model can return either a probability or a label.   \n",
    "\n",
    "To start, let's take one subject line from the testing table and perform the calculations."
   ]
  },
  {
   "cell_type": "code",
   "execution_count": 67,
   "metadata": {},
   "outputs": [
    {
     "data": {
      "text/plain": [
       "'Re: CVS report'"
      ]
     },
     "execution_count": 67,
     "metadata": {},
     "output_type": "execute_result"
    }
   ],
   "source": [
    "# Execute\n",
    "testing.column(0)[630]"
   ]
  },
  {
   "cell_type": "markdown",
   "metadata": {},
   "source": [
    "Some test code with print statements to help debug."
   ]
  },
  {
   "cell_type": "code",
   "execution_count": 68,
   "metadata": {},
   "outputs": [
    {
     "name": "stdout",
     "output_type": "stream",
     "text": [
      "Words | SpamFreq   | HamFreq\n",
      "cvs   | 0.00122249 | 0.0154501 \n",
      "\n",
      "Words  | SpamFreq   | HamFreq\n",
      "report | 0.00122249 | 0.00828482 \n",
      "\n",
      "Raw probabilities of spam and ham:\n",
      "1.6784439853677556e-11 5.955703955465114e-07 \n",
      "\n",
      "Probability of Spam: 0.0028%\n",
      "Probability of Ham: 99.9972% \n",
      "\n",
      "3856 words were checked.\n"
     ]
    }
   ],
   "source": [
    "# Set probabilities to zero.\n",
    "spam_prob=0;ham_prob=0\n",
    "\n",
    "# Tokenize the subject line\n",
    "message = token(testing.column(0)[630])\n",
    "\n",
    "# Get the words from our probability table\n",
    "subject_words =word_prob.column(0)\n",
    "\n",
    "# Count the number of words checked and find the probability of spam/ham given the subject line words\n",
    "counter = 0\n",
    "for word in subject_words:\n",
    "    # Get the probabilites of spam and ham for the word\n",
    "    temp = word_prob.where(\"Words\",word)\n",
    "    counter +=1\n",
    "    \n",
    "    # Check if word is in message\n",
    "    if word in message:\n",
    "        # Update probabilities\n",
    "        print(temp,\"\\n\")\n",
    "        spam_prob += math.log(temp[1])\n",
    "        ham_prob += math.log(temp[2])\n",
    "    else:\n",
    "        # If word not in message use the complement probability\n",
    "        spam_prob += math.log(1-temp[1])\n",
    "        ham_prob += math.log(1-temp[2])\n",
    "\n",
    "# Find the probability of spam given features by using Bayes\n",
    "prob_spam = math.exp(spam_prob)*num_spam_train/num_train\n",
    "prob_ham = math.exp(ham_prob)*num_ham_train/num_train\n",
    "\n",
    "# Print summaries\n",
    "print(\"Raw probabilities of spam and ham:\")\n",
    "print(prob_spam,prob_ham,\"\\n\")\n",
    "# Normalize to ensure we get total probability of 1.\n",
    "print(\"Probability of Spam: {:.4%}\".format(prob_spam/(prob_spam+prob_ham)))\n",
    "print(\"Probability of Ham: {:.4%} \\n\".format(prob_ham/(prob_spam+prob_ham)))\n",
    "# How many words checked\n",
    "print(\"{0} words were checked.\".format(counter))"
   ]
  },
  {
   "cell_type": "markdown",
   "metadata": {},
   "source": [
    "Write a function to predict spam based on the code we developed above."
   ]
  },
  {
   "cell_type": "code",
   "execution_count": 69,
   "metadata": {},
   "outputs": [],
   "source": [
    "def predict_spam(table,message,num_train,num_spam_train,num_ham_train):\n",
    "    \"\"\"\n",
    "    Returns probability of spam\n",
    "    \n",
    "    table is a datascience table of words with conditional probability of spam and ham\n",
    "    message is the subject line to predict\n",
    "    \"\"\"\n",
    "    # Set probabilities to zero.\n",
    "    spam_prob=0;ham_prob=0\n",
    "    \n",
    "    # Tokenize the subject line\n",
    "    message_token = token(message)\n",
    "    \n",
    "    # Get the words from our probability table\n",
    "    subject_words = table.column(0)\n",
    "    \n",
    "    # Loop through all the subject line words\n",
    "    for word in subject_words:\n",
    "        # Get the probabilites of spam and ham for the word\n",
    "        prob_line = table.where(\"Words\",word)\n",
    "        # Check if word is in message\n",
    "        if word in message_token:\n",
    "            spam_prob += math.log(prob_line[1])\n",
    "            ham_prob += math.log(prob_line[2])\n",
    "        else:\n",
    "            spam_prob += math.log(1-prob_line[1])\n",
    "            ham_prob += math.log(1-prob_line[2])\n",
    "    # Find the probability of spam given features by using Bayes\n",
    "    prob_spam = math.exp(spam_prob)*num_spam_train/num_train\n",
    "    prob_ham = math.exp(ham_prob)*num_ham_train/num_train\n",
    "    return prob_spam/(prob_spam+prob_ham)"
   ]
  },
  {
   "cell_type": "markdown",
   "metadata": {},
   "source": [
    "Test the function."
   ]
  },
  {
   "cell_type": "code",
   "execution_count": 70,
   "metadata": {},
   "outputs": [
    {
     "data": {
      "text/plain": [
       "'Re: CVS report'"
      ]
     },
     "execution_count": 70,
     "metadata": {},
     "output_type": "execute_result"
    }
   ],
   "source": [
    "testing.column(0)[630]"
   ]
  },
  {
   "cell_type": "code",
   "execution_count": 71,
   "metadata": {},
   "outputs": [
    {
     "data": {
      "text/plain": [
       "2.818133166342131e-05"
      ]
     },
     "execution_count": 71,
     "metadata": {},
     "output_type": "execute_result"
    }
   ],
   "source": [
    "predict_spam(word_prob,testing.column(0)[630],num_train,num_spam_train,num_ham_train)"
   ]
  },
  {
   "cell_type": "markdown",
   "metadata": {},
   "source": [
    "This code is too slow, maybe it is because we are working with tables and string indices. Let's use pandas and an iterator."
   ]
  },
  {
   "cell_type": "code",
   "execution_count": 72,
   "metadata": {},
   "outputs": [
    {
     "name": "stdout",
     "output_type": "stream",
     "text": [
      "Raw probabilities of spam and ham:\n",
      "1.6784439853677556e-11 5.955703955465114e-07 \n",
      "\n",
      "Probability of Spam: 0.0001%\n",
      "Probability of Ham: 99.9972% \n",
      "\n",
      "3856 words were checked.\n"
     ]
    }
   ],
   "source": [
    "# Convert table to pandas dataframe.\n",
    "word_prob_df = word_prob.to_df()\n",
    "\n",
    "# Set probabilities to zero.\n",
    "spam_prob=0;ham_prob=0\n",
    "\n",
    "# Get the words from our probability table\n",
    "message = token(testing.column(0)[630])\n",
    "counter = 0\n",
    "\n",
    "# Count the number of words checked and find the probability of spam/ham given the subject line words\n",
    "for _,subject_word,Spam_Freq,Ham_Freq in word_prob_df.itertuples():\n",
    "    counter +=1\n",
    "    if subject_word in message:\n",
    "        # Update probabilities\n",
    "        spam_prob += math.log(Spam_Freq)\n",
    "        ham_prob += math.log(Ham_Freq)\n",
    "    else:\n",
    "        spam_prob += math.log(1-Spam_Freq)\n",
    "        ham_prob += math.log(1-Ham_Freq)\n",
    "        \n",
    "# Find the probability of spam given features by using Bayes\n",
    "prob_spam = math.exp(spam_prob)*num_spam_train/num_train\n",
    "prob_ham = math.exp(ham_prob)*num_ham_train/num_train\n",
    "\n",
    "# Print summaries\n",
    "print(\"Raw probabilities of spam and ham:\")\n",
    "print(prob_spam,prob_ham,\"\\n\")\n",
    "print(\"Probability of Spam: {:.4%}\".format(prob_spam/(prob_spam/prob_ham)))\n",
    "print(\"Probability of Ham: {:.4%} \\n\".format(prob_ham/(prob_spam+prob_ham)))\n",
    "# How many words checked\n",
    "print(\"{0} words were checked.\".format(counter))"
   ]
  },
  {
   "cell_type": "markdown",
   "metadata": {},
   "source": [
    "This is much faster without all the look ups. Correct the predict_spam function to speed it up."
   ]
  },
  {
   "cell_type": "code",
   "execution_count": 73,
   "metadata": {},
   "outputs": [],
   "source": [
    "def predict_spam(table,message,num_train,num_spam_train,num_ham_train):\n",
    "    \"\"\"\n",
    "    Returns probability of spam\n",
    "    \n",
    "    table is a datascience table of words with conditional probability of spam and ham\n",
    "    message is the subject line to predict\n",
    "    num_train is integer number of training sample\n",
    "    num_spam_train is integer number of spam training samples\n",
    "    num_ham_train is integer number of ham training samples\n",
    "    \"\"\"\n",
    "    # Set probabilities to zero.\n",
    "    spam_prob=0;ham_prob=0\n",
    "    \n",
    "    # Tokenize the subject line\n",
    "    message_token = token(message)\n",
    "    \n",
    "    # Convert table to pandas dataframe.\n",
    "    temp_df = table.to_df()\n",
    "    \n",
    "    # Count the number of words checked and find the probability of spam/ham given the subject line words\n",
    "    for _,subject_word,Spam_Freq,Ham_Freq in temp_df.itertuples():\n",
    "        # Check if word is in message\n",
    "        if subject_word in message_token:\n",
    "            spam_prob += math.log(Spam_Freq)\n",
    "            ham_prob += math.log(Ham_Freq)\n",
    "        else:\n",
    "            spam_prob += math.log(1-Spam_Freq)\n",
    "            ham_prob += math.log(1-Ham_Freq)\n",
    "    # Find the probability of spam given features by using Bayes\n",
    "    prob_spam = math.exp(spam_prob)*num_spam_train/num_train\n",
    "    prob_ham = math.exp(ham_prob)*num_ham_train/num_train\n",
    "    return prob_spam/(prob_spam+prob_ham)"
   ]
  },
  {
   "cell_type": "markdown",
   "metadata": {},
   "source": [
    "Check the function with the test case."
   ]
  },
  {
   "cell_type": "code",
   "execution_count": 74,
   "metadata": {},
   "outputs": [
    {
     "data": {
      "text/plain": [
       "2.818133166342131e-05"
      ]
     },
     "execution_count": 74,
     "metadata": {},
     "output_type": "execute_result"
    }
   ],
   "source": [
    "predict_spam(word_prob,testing.column(0)[630],num_train,num_spam_train,num_ham_train)"
   ]
  },
  {
   "cell_type": "markdown",
   "metadata": {},
   "source": [
    "Next iterate through all the testing data. First we will use only 5 rows to ensure the code works correctly."
   ]
  },
  {
   "cell_type": "code",
   "execution_count": 75,
   "metadata": {},
   "outputs": [],
   "source": [
    "temp = testing.to_df().iloc[:5]\n",
    "probs=[]\n",
    "truth = []\n",
    "for _,message,is_spam in temp.itertuples():\n",
    "    truth.append(is_spam)\n",
    "    probs.append(\"Spam\" if predict_spam(word_prob,message,num_train,num_spam_train,num_ham_train) > .5 else \"Ham\")"
   ]
  },
  {
   "cell_type": "code",
   "execution_count": 76,
   "metadata": {},
   "outputs": [
    {
     "data": {
      "text/plain": [
       "[False, False, False, False, False]"
      ]
     },
     "execution_count": 76,
     "metadata": {},
     "output_type": "execute_result"
    }
   ],
   "source": [
    "truth"
   ]
  },
  {
   "cell_type": "code",
   "execution_count": 77,
   "metadata": {},
   "outputs": [
    {
     "data": {
      "text/plain": [
       "['Ham', 'Ham', 'Ham', 'Ham', 'Ham']"
      ]
     },
     "execution_count": 77,
     "metadata": {},
     "output_type": "execute_result"
    }
   ],
   "source": [
    "probs"
   ]
  },
  {
   "cell_type": "markdown",
   "metadata": {},
   "source": [
    "Now for all the testing data."
   ]
  },
  {
   "cell_type": "code",
   "execution_count": 78,
   "metadata": {},
   "outputs": [],
   "source": [
    "probs=[]\n",
    "truth = []\n",
    "for _,message,is_spam in testing.to_df().itertuples():\n",
    "    truth.append(is_spam)\n",
    "    probs.append('Spam' if predict_spam(word_prob,message,num_train,num_spam_train,num_ham_train)>.5 else 'Ham')"
   ]
  },
  {
   "cell_type": "markdown",
   "metadata": {},
   "source": [
    "Create a confusion matrix with Truth in one column and Predict in the second."
   ]
  },
  {
   "cell_type": "code",
   "execution_count": 79,
   "metadata": {},
   "outputs": [],
   "source": [
    "result_table=ds.Table().with_columns('Truth',truth,'Predict',probs)"
   ]
  },
  {
   "cell_type": "code",
   "execution_count": 80,
   "metadata": {},
   "outputs": [
    {
     "data": {
      "text/html": [
       "<table border=\"1\" class=\"dataframe\">\n",
       "    <thead>\n",
       "        <tr>\n",
       "            <th>Truth</th> <th>Ham</th> <th>Spam</th>\n",
       "        </tr>\n",
       "    </thead>\n",
       "    <tbody>\n",
       "        <tr>\n",
       "            <td>False</td> <td>554 </td> <td>14  </td>\n",
       "        </tr>\n",
       "        <tr>\n",
       "            <td>True </td> <td>41  </td> <td>51  </td>\n",
       "        </tr>\n",
       "    </tbody>\n",
       "</table>"
      ],
      "text/plain": [
       "Truth | Ham  | Spam\n",
       "False | 554  | 14\n",
       "True  | 41   | 51"
      ]
     },
     "execution_count": 80,
     "metadata": {},
     "output_type": "execute_result"
    }
   ],
   "source": [
    "result_table.pivot(\"Predict\",\"Truth\")"
   ]
  },
  {
   "cell_type": "markdown",
   "metadata": {},
   "source": [
    "Run the classification_performance function on the result."
   ]
  },
  {
   "cell_type": "code",
   "execution_count": 81,
   "metadata": {
    "scrolled": true
   },
   "outputs": [
    {
     "name": "stdout",
     "output_type": "stream",
     "text": [
      "Accuracy is: 91.67%\n",
      "Precision is: 55.43%\n",
      "Recall is: 78.46%\n",
      "F1 score is: 32.48%\n"
     ]
    },
    {
     "data": {
      "text/plain": [
       "(0.9166666666666666,\n",
       " 0.5543478260869565,\n",
       " 0.7846153846153846,\n",
       " 0.32484076433121023)"
      ]
     },
     "execution_count": 81,
     "metadata": {},
     "output_type": "execute_result"
    }
   ],
   "source": [
    "classification_performance(51,41,554,14)"
   ]
  },
  {
   "cell_type": "markdown",
   "metadata": {},
   "source": [
    "WRITE A SUMMARY OF THIS MODEL COMPARED TO THE SIMPLE MODEL OF SECTION 6."
   ]
  },
  {
   "cell_type": "code",
   "execution_count": 82,
   "metadata": {},
   "outputs": [
    {
     "name": "stdout",
     "output_type": "stream",
     "text": [
      "The summary for the section 6 simple model:\n",
      "Accuracy is: 85.42%\n",
      "Precision is: 71.11%\n",
      "Recall is: 6.40%\n",
      "F1 score is: 5.87%\n",
      "(0.8542424242424242, 0.7111111111111111, 0.064, 0.05871559633027523)\n"
     ]
    }
   ],
   "source": [
    "print('The summary for the section 6 simple model:')\n",
    "print(classification_performance(32,13,2787,468))"
   ]
  },
  {
   "cell_type": "markdown",
   "metadata": {},
   "source": [
    "The naive Bayes prediction method has much better accuracy than the simple model.  It also has a much better recall at almost 80% better, and the F1 score was also nearly 30% better.  However, the precision was down by almost 20%.  This lack of precision could have been for a number of reasons including the limited use of certain words that we chose to analyze.  The accuracy, however, is most important with only 14 false negatives (failure to detect spam and labeling it as ham).  Overall, the machine had a much better prediction ability."
   ]
  },
  {
   "cell_type": "markdown",
   "metadata": {},
   "source": [
    "### 8 Conclusion\n",
    "In this project we read in email data, cleaned it up, summarized and visualized, made an inference about the importance of the word free in identifying spam, and finally built a simple naive Bayes classifier.\n",
    "\n",
    "We used naive Bayes because it is fast and easy to use. It also works well with high demensional data. The only parameter, which we did not experiment with, was the Laplace smoothing parameter. \n",
    "\n",
    "We could improve our model by using $n$-grams, the body of the text, and/or email header information. The papers listed at the top of this project give an in-depth discussion of these ideas."
   ]
  }
 ],
 "metadata": {
  "kernelspec": {
   "display_name": "Python 3",
   "language": "python",
   "name": "python3"
  },
  "language_info": {
   "codemirror_mode": {
    "name": "ipython",
    "version": 3
   },
   "file_extension": ".py",
   "mimetype": "text/x-python",
   "name": "python",
   "nbconvert_exporter": "python",
   "pygments_lexer": "ipython3",
   "version": "3.6.5"
  }
 },
 "nbformat": 4,
 "nbformat_minor": 2
}
